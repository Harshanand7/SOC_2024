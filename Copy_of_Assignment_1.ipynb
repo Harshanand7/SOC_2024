{
  "cells": [
    {
      "cell_type": "markdown",
      "metadata": {
        "id": "view-in-github",
        "colab_type": "text"
      },
      "source": [
        "<a href=\"https://colab.research.google.com/github/Harshanand7/SOC_2024/blob/main/Copy_of_Assignment_1.ipynb\" target=\"_parent\"><img src=\"https://colab.research.google.com/assets/colab-badge.svg\" alt=\"Open In Colab\"/></a>"
      ]
    },
    {
      "cell_type": "markdown",
      "metadata": {
        "id": "Nrq1XfObkug2"
      },
      "source": [
        "# **Python**"
      ]
    },
    {
      "cell_type": "markdown",
      "metadata": {
        "id": "Ig3HoMi7XsFL"
      },
      "source": [
        "The following questions are designed to test your basic undersatnding of python in topics such as recursion, functions, loop and classes. DO NOT use ChatGPT for this as it is important that you understand and clarify the basics here because it won't be able to help you on later stages of this project. So it's best to discuss your doubts on the group or ask us mentors. Have fun solving this assignment :)"
      ]
    },
    {
      "cell_type": "markdown",
      "metadata": {
        "id": "p1n0OwlNkug4"
      },
      "source": [
        "**Q1. Create a function to calculate a factorial of a number, using recursion.**"
      ]
    },
    {
      "cell_type": "code",
      "execution_count": null,
      "metadata": {
        "id": "j3HKaA4IXsFN",
        "colab": {
          "base_uri": "https://localhost:8080/"
        },
        "outputId": "530be500-740b-40e5-9e26-e9fdbb33d02d"
      },
      "outputs": [
        {
          "output_type": "execute_result",
          "data": {
            "text/plain": [
              "720"
            ]
          },
          "metadata": {},
          "execution_count": 1
        }
      ],
      "source": [
        "def factorial(x):\n",
        "  if(x==0 or x==1):\n",
        "    return 1\n",
        "  else:\n",
        "      return x * factorial(x-1)\n",
        "y=factorial(6)\n",
        "y"
      ]
    },
    {
      "cell_type": "markdown",
      "metadata": {
        "id": "obQO9ik9XsFN"
      },
      "source": [
        "\n",
        "**Q2. Create a class called \"Car\" that inherits from a parent class called \"Vehicle\". Additionally, the \"Car\" class should have a method to calculate the fuel efficiency, a property to track the current speed, and a class variable to keep track of the total number of cars created.**"
      ]
    },
    {
      "cell_type": "code",
      "execution_count": null,
      "metadata": {
        "id": "FM7-VeBNXsFO",
        "colab": {
          "base_uri": "https://localhost:8080/"
        },
        "outputId": "3c1e14eb-c72f-422a-c617-9530be612caf"
      },
      "outputs": [
        {
          "output_type": "stream",
          "name": "stdout",
          "text": [
            "Car 1 Fuel Efficiency: 10.0\n",
            "Car 2 Fuel Efficiency: 10.0\n",
            "Car 1 Speed: 70\n",
            "Total number of cars: 3\n",
            "Toyota 1 50 500\n",
            "Honda 2 60 600\n",
            "Hyundai 2 60 600\n"
          ]
        }
      ],
      "source": [
        "class Vehicle(object):\n",
        "\n",
        "\n",
        "    def __init__(self, name, id, fuel_consumed, energy_converted):\n",
        "        self.name = name\n",
        "        self.id = id\n",
        "        self.fuel_consumed = fuel_consumed\n",
        "        self.energy_converted = energy_converted\n",
        "\n",
        "\n",
        "    def showdetails(self):\n",
        "        print(self.name, self.id, self.fuel_consumed, self.energy_converted)\n",
        "\n",
        "\n",
        "\n",
        "class Car(Vehicle):\n",
        "    total_cars = 0\n",
        "\n",
        "    def __init__(self, name, id, fuel_consumed, energy_converted):\n",
        "        super().__init__(name, id, fuel_consumed, energy_converted)\n",
        "        Car.total_cars += 1\n",
        "        self._speed = 0\n",
        "\n",
        "    def fuel_efficiency(self):\n",
        "        return self.energy_converted / self.fuel_consumed\n",
        "\n",
        "    @classmethod\n",
        "    def number_of_cars(cls):\n",
        "        return cls.total_cars\n",
        "\n",
        "    @property\n",
        "    def speed(self):\n",
        "        return self._speed\n",
        "\n",
        "    @speed.setter\n",
        "    def speed(self, value):\n",
        "        self._speed = value\n",
        "\n",
        "\n",
        "car1 = Car(\"Toyota\", 1, 50, 500)\n",
        "car2 = Car(\"Honda\", 2, 60, 600)\n",
        "car3 = Car(\"Hyundai\", 2, 60, 600)\n",
        "\n",
        "\n",
        "print(\"Car 1 Fuel Efficiency:\", car1.fuel_efficiency())\n",
        "print(\"Car 2 Fuel Efficiency:\", car2.fuel_efficiency())\n",
        "\n",
        "car1.speed = 70\n",
        "print(\"Car 1 Speed:\", car1.speed)\n",
        "\n",
        "print(\"Total number of cars:\", Car.number_of_cars())\n",
        "car1.showdetails()\n",
        "car2.showdetails()\n",
        "car3.showdetails()\n"
      ]
    },
    {
      "cell_type": "markdown",
      "metadata": {
        "id": "YtiLK_6-XsFO"
      },
      "source": [
        "**Q3. Write a function called \"reverse_string\" that takes a string as input and returns the reverse of the input string.**"
      ]
    },
    {
      "cell_type": "code",
      "execution_count": null,
      "metadata": {
        "id": "hhJ-TMZ4XsFO",
        "colab": {
          "base_uri": "https://localhost:8080/"
        },
        "outputId": "0197900f-3f21-4ce6-c476-4dcf9e39b63e"
      },
      "outputs": [
        {
          "output_type": "stream",
          "name": "stdout",
          "text": [
            "h\n",
            "t\n",
            "g\n",
            "n\n",
            "e\n",
            "L\n"
          ]
        }
      ],
      "source": [
        "def reverse_string(x):\n",
        "  for i in range(1,len(x)+1):\n",
        "    print(x[len(x)-i])\n",
        "reverse_string(\"Length\")"
      ]
    },
    {
      "cell_type": "markdown",
      "metadata": {
        "id": "uApbHAIxXsFO"
      },
      "source": [
        "**Q4. Write a program to calculate the sum of all the even numbers between 1 and 100 which are not divisible by 5 and 7 using a for-loop**"
      ]
    },
    {
      "cell_type": "code",
      "execution_count": null,
      "metadata": {
        "id": "R4P389cjXsFO",
        "colab": {
          "base_uri": "https://localhost:8080/"
        },
        "outputId": "a8222730-dd4e-402b-816e-55a23bbfe77e"
      },
      "outputs": [
        {
          "output_type": "execute_result",
          "data": {
            "text/plain": [
              "1678"
            ]
          },
          "metadata": {},
          "execution_count": 4
        }
      ],
      "source": [
        "sum=0\n",
        "for i in range(1,100):\n",
        "  if(i%2==0):\n",
        "    if(i%5!=0 and i%7!=0):\n",
        "      sum=sum+i\n",
        "sum"
      ]
    },
    {
      "cell_type": "markdown",
      "metadata": {
        "id": "c4t97kfpXsFP"
      },
      "source": [
        "**Q5. Create a dictionary with the following key-value pairs: \"name\" - \"John\", \"age\" - 25, \"city\" - \"New York\". Write a program that prints out the keys and values of the dictionary.**"
      ]
    },
    {
      "cell_type": "code",
      "execution_count": null,
      "metadata": {
        "id": "NUoZJxZRXsFP",
        "colab": {
          "base_uri": "https://localhost:8080/"
        },
        "outputId": "e2cf2ac6-a6e6-448a-97fa-ad242aeda974"
      },
      "outputs": [
        {
          "output_type": "stream",
          "name": "stdout",
          "text": [
            "{'name': 'John', 'age': 25, 'ciy': 'New York'}\n"
          ]
        }
      ],
      "source": [
        "thisdict = {\n",
        "  \"name\": \"John\",\n",
        "  \"age\": 25,\n",
        "  \"ciy\": \"New York\"\n",
        "}\n",
        "print(thisdict)"
      ]
    },
    {
      "cell_type": "markdown",
      "metadata": {
        "id": "1HVhQ2Q-XsFP"
      },
      "source": [
        "**Q6. Write a function that takes a list of numbers as input and returns the second largest number in the list, without using any built-in sorting functions or the max() function.**"
      ]
    },
    {
      "cell_type": "code",
      "execution_count": null,
      "metadata": {
        "id": "LQTabMTrXsFQ",
        "colab": {
          "base_uri": "https://localhost:8080/"
        },
        "outputId": "a493b460-66e9-43c8-efea-daf79e232d20"
      },
      "outputs": [
        {
          "output_type": "execute_result",
          "data": {
            "text/plain": [
              "8"
            ]
          },
          "metadata": {},
          "execution_count": 6
        }
      ],
      "source": [
        "y=[1,2,3,8,6,4,9,0,8,0,8]\n",
        "def sort_max(x):\n",
        "  for i in range(0,len(x)):\n",
        "    for j in range(0,len(x)-i-1):\n",
        "      if(x[j]>=x[j+1]):\n",
        "        temp=x[j]\n",
        "        x[j]=x[j+1]\n",
        "        x[j+1]=temp\n",
        "  return x[len(x)-2]\n",
        "\n",
        "sort_max(y)\n"
      ]
    },
    {
      "cell_type": "markdown",
      "metadata": {
        "id": "MbvsDuzLano5"
      },
      "source": [
        "# **NumPy**\n",
        "In this assignment, you will be familiarized with the usage of the NumPy library and how to use vectorization to speed up computations in comparision to iterative approaches.\n",
        "\n",
        "You are to only write/modify the code in between consecutive `# < START >` and `# < END >` comments. DO NOT modify other parts of the notebook, your assignments will not be graded otherwise.\n",
        "```python\n",
        "\"Don't modify any code here\"\n",
        "\n",
        "# < START >\n",
        "\"YOUR CODE GOES HERE!\"\n",
        "# < END >\n",
        "\n",
        "\"Don't modify any code here\"\n",
        "```\n",
        "\n",
        "<!---Need to include clarification about arrays?-->\n",
        "\n",
        "**Start by running the below cell, to import the NumPy library.**"
      ]
    },
    {
      "cell_type": "code",
      "execution_count": null,
      "metadata": {
        "id": "GHqaQIZwaqrb"
      },
      "outputs": [],
      "source": [
        "import numpy as np"
      ]
    },
    {
      "cell_type": "markdown",
      "metadata": {
        "id": "7_q9CV0oqiQE"
      },
      "source": [
        "### **Initializating Arrays**\n",
        "NumPy offers multiple methods to create and populate arrays\n",
        "- Create a $2\\times3$ array identical to\n",
        "$\\begin{bmatrix}\n",
        "1 & 2 & 4\\\\\n",
        "7 & 13 & 21\\\\\n",
        "\\end{bmatrix}$, and assign it to a variable `arr`.  "
      ]
    },
    {
      "cell_type": "code",
      "execution_count": null,
      "metadata": {
        "id": "DOSodBqMsPFx",
        "colab": {
          "base_uri": "https://localhost:8080/"
        },
        "outputId": "abf51117-c8a3-4f9e-9d60-5f501d4afc59"
      },
      "outputs": [
        {
          "output_type": "stream",
          "name": "stdout",
          "text": [
            "[[ 1  2  4]\n",
            " [ 7 13 21]]\n",
            "Shape: (2, 3)\n"
          ]
        }
      ],
      "source": [
        "# < START >\n",
        "arr=np.array([[1,2,4],[7,13,21]])\n",
        "# < END >\n",
        "\n",
        "print(arr)\n",
        "print(\"Shape:\", arr.shape)"
      ]
    },
    {
      "cell_type": "markdown",
      "metadata": {
        "id": "ow7eYNN0uqOc"
      },
      "source": [
        "You should be able to see that the `shape` property of an array lets you access its dimensions.  \n",
        "For us, this is a handy way to ensure that the dimensions of an array are what we expect, allowing us to easily debug programs."
      ]
    },
    {
      "cell_type": "markdown",
      "metadata": {
        "id": "3sRFnmJrWY0S"
      },
      "source": [
        "- Initialize a NumPy array `x` of dimensions $2\\times3$ with random values.  \n",
        "Do not use the values of the dimensions directly, instead use the variables provided as arguments.\n",
        "<details>\n",
        "  <summary>Hint</summary>\n",
        "  <a href=\"https://numpy.org/doc/stable/reference/random/generated/numpy.random.randn.html#numpy-random-randn\">np.random.randn()</a>\n",
        "</details>"
      ]
    },
    {
      "cell_type": "code",
      "execution_count": null,
      "metadata": {
        "id": "VVrePkvxW2K9",
        "colab": {
          "base_uri": "https://localhost:8080/"
        },
        "outputId": "2586e55d-e65e-44b1-8abe-610e3cd1b63c"
      },
      "outputs": [
        {
          "output_type": "stream",
          "name": "stdout",
          "text": [
            "[[ 1.09197477 -0.2016073   0.16262944]\n",
            " [ 0.54952178 -1.07468053  1.06019759]]\n"
          ]
        }
      ],
      "source": [
        "n_rows = 2\n",
        "n_columns = 3\n",
        "\n",
        "# <START>\n",
        "x=np.random.randn(n_rows,n_columns)\n",
        "# <END>\n",
        "\n",
        "print(x)"
      ]
    },
    {
      "cell_type": "markdown",
      "metadata": {
        "id": "j7XlM8Bwchhm"
      },
      "source": [
        "A few more basic methods to initialize arrays exist.\n",
        "Feel free to read up online to complete the code snippets."
      ]
    },
    {
      "cell_type": "code",
      "execution_count": null,
      "metadata": {
        "id": "hG59Eh_edKNy",
        "colab": {
          "base_uri": "https://localhost:8080/"
        },
        "outputId": "22b867b6-99a2-42e3-d181-020e3be4fdbe"
      },
      "outputs": [
        {
          "output_type": "stream",
          "name": "stdout",
          "text": [
            "[[[0. 0.]\n",
            "  [0. 0.]\n",
            "  [0. 0.]\n",
            "  [0. 0.]\n",
            "  [0. 0.]]\n",
            "\n",
            " [[0. 0.]\n",
            "  [0. 0.]\n",
            "  [0. 0.]\n",
            "  [0. 0.]\n",
            "  [0. 0.]]\n",
            "\n",
            " [[0. 0.]\n",
            "  [0. 0.]\n",
            "  [0. 0.]\n",
            "  [0. 0.]\n",
            "  [0. 0.]]\n",
            "\n",
            " [[0. 0.]\n",
            "  [0. 0.]\n",
            "  [0. 0.]\n",
            "  [0. 0.]\n",
            "  [0. 0.]]]\n",
            "[[[1. 1.]\n",
            "  [1. 1.]\n",
            "  [1. 1.]\n",
            "  [1. 1.]\n",
            "  [1. 1.]]\n",
            "\n",
            " [[1. 1.]\n",
            "  [1. 1.]\n",
            "  [1. 1.]\n",
            "  [1. 1.]\n",
            "  [1. 1.]]\n",
            "\n",
            " [[1. 1.]\n",
            "  [1. 1.]\n",
            "  [1. 1.]\n",
            "  [1. 1.]\n",
            "  [1. 1.]]\n",
            "\n",
            " [[1. 1.]\n",
            "  [1. 1.]\n",
            "  [1. 1.]\n",
            "  [1. 1.]\n",
            "  [1. 1.]]]\n"
          ]
        }
      ],
      "source": [
        "# < START >\n",
        "# Initialize an array ZERO_ARR of dimensions (4, 5, 2) whose every element is 0\n",
        "ZERO_ARR=np.zeros((4,5,2))\n",
        "# < END >\n",
        "\n",
        "print(ZERO_ARR)\n",
        "\n",
        "# < START >\n",
        "# Initialize an array ONE_ARR of dimensions (4, 5, 2) whose every element is 1\n",
        "ONE_ARR=np.ones((4,5,2))\n",
        "# < END >\n",
        "\n",
        "print(ONE_ARR)"
      ]
    },
    {
      "cell_type": "markdown",
      "metadata": {
        "id": "19eX-3suIKcF"
      },
      "source": [
        "You can also transpose arrays (same as with matrices), but a more general and commonly used function is the `array.reshape()` function.\n",
        "\n",
        "$$\n",
        "\\begin{bmatrix}\n",
        "a & d\\\\\n",
        "b & e\\\\\n",
        "c & f\\\\\n",
        "\\end{bmatrix}\n",
        "\\xleftarrow{\\text{.T}}\n",
        "\\begin{bmatrix}\n",
        "a & b & c\\\\\n",
        "d & e & f\\\\\n",
        "\\end{bmatrix}\n",
        "\\xrightarrow{\\text{.reshape(3, 2)}}\n",
        "\\begin{bmatrix}\n",
        "a & b\\\\\n",
        "c & d\\\\\n",
        "e & f\\\\\n",
        "\\end{bmatrix}\n",
        "\\xrightarrow{\\text{.reshape(6,1)}}\n",
        "\\begin{bmatrix}\n",
        "a\\\\b\\\\c\\\\d\\\\e\\\\f\\\\\n",
        "\\end{bmatrix}\n",
        "$$\n",
        "`reshape` is commonly used to flatten data stored in multi-dimensional arrays (ex: a 2D array representing a B/W image)\n",
        "\n",
        "- Try it out yourself:"
      ]
    },
    {
      "cell_type": "code",
      "execution_count": null,
      "metadata": {
        "id": "72poNlj4H4dv",
        "colab": {
          "base_uri": "https://localhost:8080/"
        },
        "outputId": "f22dd552-82ec-4a0f-e807-89a759074210"
      },
      "outputs": [
        {
          "output_type": "stream",
          "name": "stdout",
          "text": [
            "[[1 2]\n",
            " [3 4]\n",
            " [5 6]]\n",
            "[[1]\n",
            " [2]\n",
            " [3]\n",
            " [4]\n",
            " [5]\n",
            " [6]]\n"
          ]
        }
      ],
      "source": [
        "y = np.array([[1, 2, 3],\n",
        "              [4, 5, 6]])\n",
        "\n",
        "# < START >\n",
        "# Create a new array y_transpose that is the transpose of matrix y\n",
        "y_transpose=y.reshape(3,2)\n",
        "# < END >\n",
        "\n",
        "print(y_transpose)\n",
        "\n",
        "# < START >\n",
        "# Create a new array y_flat that contains the same elements as y but has been flattened to a column array\n",
        "y_flat=y.reshape(6,1)\n",
        "# < END >\n",
        "\n",
        "print(y_flat)"
      ]
    },
    {
      "cell_type": "markdown",
      "metadata": {
        "id": "OmHhW0gtXn4C"
      },
      "source": [
        "- Create a `y` with dimensions $3\\times1$ (column matrix), with elements $4,7$ and $11$.  \n",
        "$$y = \\begin{bmatrix}\n",
        "4\\\\\n",
        "7\\\\\n",
        "11\n",
        "\\end{bmatrix}$$  "
      ]
    },
    {
      "cell_type": "code",
      "execution_count": null,
      "metadata": {
        "id": "_OB_fi7zW57S",
        "colab": {
          "base_uri": "https://localhost:8080/"
        },
        "outputId": "d6ac699d-717e-4ee6-c59f-4574f8fb6ba2"
      },
      "outputs": [
        {
          "output_type": "stream",
          "name": "stdout",
          "text": [
            "[[ 4]\n",
            " [ 7]\n",
            " [11]]\n",
            "[[4.74557179]\n",
            " [6.33749691]]\n"
          ]
        }
      ],
      "source": [
        "# <START>\n",
        "# Initialize the column matrix here\n",
        "y=np.array([[4],[7],[11]])\n",
        "# <END>\n",
        "\n",
        "assert y.shape == (3, 1)\n",
        "# The above line is an assert statement, which halts the program if the given condition evaluates to False.\n",
        "# Assert statements are frequently used in neural network programs to ensure our matrices are of the right dimensions.\n",
        "\n",
        "print(y)\n",
        "\n",
        "# <START>\n",
        "# Multiply both the arrays here\n",
        "z=np.matmul(x,y)\n",
        "\n",
        "# <END>\n",
        "\n",
        "assert z.shape == (2, 1)\n",
        "\n",
        "print(z)"
      ]
    },
    {
      "cell_type": "markdown",
      "metadata": {
        "id": "qQBkm2K9eMiu"
      },
      "source": [
        "### **Indexing & Slicing**\n",
        "Just like with normal arrays, you can access an element at the `(i,j)` position using `array[i][j]`.  \n",
        "However, NumPy allows you to do the same using `array[i, j]`, and this form is more efficient and simpler to use.\n",
        "<details>\n",
        "<summary><i>(Optional) Why is it more efficient?</i></summary>\n",
        "The former case is more inefficient as a new temporary array is created after the first index i, that is then indexed by j.\n",
        "</details>\n",
        "\n",
        "```python\n",
        "x = np.array([[1,3,5],[4,7,11],[5,10,20]])\n",
        "\n",
        "x[1][2] #11\n",
        "x[1,2]  #11 <-- Prefer this\n",
        "```"
      ]
    },
    {
      "cell_type": "markdown",
      "metadata": {
        "id": "ptZtfq3dUE25"
      },
      "source": [
        "Slicing is another important feature of NumPy arrays. The syntax is the same as that of slicing in Python lists.\n",
        "  We pass the slice as\n",
        "\n",
        "```python\n",
        "  sliced_array = array[start:end:step]\n",
        "  # The second colon (:) is only needed\n",
        "  # if you want to use a step other than 1\n",
        "```\n",
        "By default, `start` is 0, `end` is the array length (in that dimension), and `step` is 1.\n",
        "Remember that `end` is not included in the slice.\n",
        "\n",
        "  Implement array slicing as instructed in the following examples\n",
        "\n"
      ]
    },
    {
      "cell_type": "code",
      "execution_count": null,
      "metadata": {
        "id": "Rb3_CEkYVHRV",
        "colab": {
          "base_uri": "https://localhost:8080/"
        },
        "outputId": "2bb613a1-5e3c-415f-bdb4-a22b04ddb53f"
      },
      "outputs": [
        {
          "output_type": "stream",
          "name": "stdout",
          "text": [
            "[1 5 6]\n",
            "[1 3 5 7 9]\n"
          ]
        }
      ],
      "source": [
        "x = np.array([4, 1, 5, 6, 11])\n",
        "\n",
        "# <START>\n",
        "# Create a new array y with the middle 3 elements of x\n",
        "y=x[1:4]\n",
        "# <END>\n",
        "\n",
        "print(y)\n",
        "\n",
        "z = np.array([1, 2, 3, 4, 5, 6, 7, 8, 9, 10])\n",
        "\n",
        "# <START>\n",
        "# Create a new array w with alternating elements of z\n",
        "w=z[0:10:2]\n",
        "# <END>\n",
        "\n",
        "print(w)"
      ]
    },
    {
      "cell_type": "markdown",
      "metadata": {
        "id": "MeHuSp4YHjpT"
      },
      "source": [
        "A combination of indexing and slicing can be used to access rows, columns and sub-arrays of 2D arrays.\n",
        "\n",
        "```python\n",
        "arr = np.array([\n",
        "          [1, 2, 3],\n",
        "          [4, 5, 6],\n",
        "          [7, 8, 9]])\n",
        "\n",
        "print(arr[0])       #[1 2 3]\n",
        "print(arr[:,2])     #[3 6 9]\n",
        "print(arr[0:2,0:2]) #[[1 2]\n",
        "                    # [4 5]]\n",
        "```"
      ]
    },
    {
      "cell_type": "code",
      "execution_count": null,
      "metadata": {
        "id": "mvrmhMiUHjMm",
        "colab": {
          "base_uri": "https://localhost:8080/"
        },
        "outputId": "da2c5f38-257c-4e38-a5fb-5250f25368ed"
      },
      "outputs": [
        {
          "output_type": "stream",
          "name": "stdout",
          "text": [
            "[[5 2]\n",
            " [7 9]\n",
            " [4 5]]\n"
          ]
        }
      ],
      "source": [
        "arr_2d = np.array([[4, 5, 2],\n",
        "          [3, 7, 9],\n",
        "          [1, 4, 5],\n",
        "          [6, 6, 1]])\n",
        "\n",
        "# <START>\n",
        "# Create a 2D array sliced_arr_2d that is of the form [[5, 2], [7, 9], [4, 5]]\n",
        "sliced_arr_2d= arr_2d[0:3,1:3]\n",
        "# <END>\n",
        "\n",
        "print(sliced_arr_2d)"
      ]
    },
    {
      "cell_type": "markdown",
      "metadata": {
        "id": "3wusjBpUZ4YM"
      },
      "source": [
        "### **Broadcasting**\n",
        "\n",
        "This feature allows for flexibility in array operations. It lets us implement highly efficient algorithms with minimal use of memory."
      ]
    },
    {
      "cell_type": "code",
      "execution_count": null,
      "metadata": {
        "id": "JMYM8LIYbKdV",
        "colab": {
          "base_uri": "https://localhost:8080/"
        },
        "outputId": "92e7f9e1-7744-484b-8849-b29a2d5cceb0"
      },
      "outputs": [
        {
          "output_type": "stream",
          "name": "stdout",
          "text": [
            "[2 3 4 5]\n",
            "[[ 4  8 12]\n",
            " [20 25 30]]\n"
          ]
        }
      ],
      "source": [
        "arr1 = np.array([1, 2, 3, 4])\n",
        "b = 1\n",
        "\n",
        "# <START>\n",
        "# Implement broadcasting to add b to each element of arr1\n",
        "arr1=arr1+b\n",
        "# <END>\n",
        "\n",
        "print(arr1)\n",
        "\n",
        "arr2 = np.array([[1, 2, 3],\n",
        "                 [4, 5, 6]])\n",
        "arr3 = np.array([[4],\n",
        "                 [5]])\n",
        "\n",
        "# <START>\n",
        "# Multiply each element of the first row of arr2 by 4 and each element of the second row by 5, using only arr2 and arr3\n",
        "arr2[0]=arr2[0]*arr3[0]\n",
        "arr2[1]=arr2[1]*arr3[1]\n",
        "# <END>\n",
        "\n",
        "print(arr2)"
      ]
    },
    {
      "cell_type": "markdown",
      "metadata": {
        "id": "ZKz_znd7WfhP"
      },
      "source": [
        "### **Vectorization**\n",
        "\n",
        "From what we've covered so far, it might not be clear as to why we need to use vectorization. To understand this, let's compare the execution times of a non-vectorized program and a vectorized one.\n",
        "\n",
        "Your goal is to multiply each element of the 2D arrays by 3. Implement this using both non-vectorized and vectorized approaches."
      ]
    },
    {
      "cell_type": "code",
      "execution_count": null,
      "metadata": {
        "id": "RheVdAh4WyA1",
        "colab": {
          "base_uri": "https://localhost:8080/"
        },
        "outputId": "9866efb8-0483-4101-93a3-6668392dcfd3"
      },
      "outputs": [
        {
          "output_type": "stream",
          "name": "stdout",
          "text": [
            "Time taken in non-vectorized approach: 914.2661094665527 ms\n",
            "[[2.04317864 2.7381988  0.29158497 ... 0.12414913 1.92322396 2.22352705]\n",
            " [1.48486666 2.73162326 2.48191839 ... 0.8218887  2.14074854 2.5920224 ]\n",
            " [0.20449447 0.88408146 0.03197429 ... 1.94027974 1.85085928 1.13449706]\n",
            " ...\n",
            " [1.44558738 2.58556315 0.42933047 ... 0.13100904 0.99249355 1.85324358]\n",
            " [0.25952442 0.62454286 1.29019584 ... 0.01558279 1.30085774 1.95122947]\n",
            " [2.28048913 0.60327988 1.75182266 ... 1.78824844 1.31629805 2.33260855]]\n",
            "Time taken in vectorized approach: 4.070758819580078 ms\n",
            "[[0.68105955 0.91273293 0.09719499 ... 0.04138304 0.64107465 0.74117568]\n",
            " [0.49495555 0.91054109 0.82730613 ... 0.2739629  0.71358285 0.86400747]\n",
            " [0.06816482 0.29469382 0.0106581  ... 0.64675991 0.61695309 0.37816569]\n",
            " ...\n",
            " [0.48186246 0.86185438 0.14311016 ... 0.04366968 0.33083118 0.61774786]\n",
            " [0.08650814 0.20818095 0.43006528 ... 0.00519426 0.43361925 0.65040982]\n",
            " [0.76016304 0.20109329 0.58394089 ... 0.59608281 0.43876602 0.77753618]]\n"
          ]
        }
      ],
      "source": [
        "import time\n",
        "\n",
        "arr_nonvectorized = np.random.rand(1000, 1000)\n",
        "arr_vectorized = np.array(arr_nonvectorized) # making a deep copy of the array\n",
        "\n",
        "start_nv = time.time()\n",
        "\n",
        "# Non-vectorized approach\n",
        "# <START>\n",
        "for i in range (1000):\n",
        "  for j in range(1000):\n",
        "\n",
        "    arr_nonvectorized[i][j] = arr_nonvectorized[i][j] * 3\n",
        "\n",
        "\n",
        "# <END>\n",
        "\n",
        "end_nv = time.time()\n",
        "print(\"Time taken in non-vectorized approach:\", 1000*(end_nv-start_nv), \"ms\")\n",
        "\n",
        "# uncomment and execute the below line to convince yourself that both approaches are doing the same thing\n",
        "print(arr_nonvectorized)\n",
        "\n",
        "start_v = time.time()\n",
        "\n",
        "# Vectorized approach\n",
        "# <START>\n",
        "arr_nonvectorized = arr_nonvectorized * 3\n",
        "# <END>\n",
        "\n",
        "end_v = time.time()\n",
        "print(\"Time taken in vectorized approach:\", 1000*(end_v-start_v), \"ms\")\n",
        "\n",
        "# uncomment and execute the below line to convince yourself that both approaches are doing the same thing\n",
        "print(arr_vectorized)"
      ]
    },
    {
      "cell_type": "markdown",
      "metadata": {
        "id": "W2FkvxAsbyzc"
      },
      "source": [
        "Try playing around with the dimensions of the array. You'll find that there isn't much difference in the execution times when the dimensions are small. But in neural networks, we often deal with very large datasets and so vectorization is a very important tool."
      ]
    },
    {
      "cell_type": "markdown",
      "metadata": {
        "id": "DBlRPY0XkuhF"
      },
      "source": [
        "# **Pandas**"
      ]
    },
    {
      "cell_type": "markdown",
      "metadata": {
        "id": "WGrOQ8MGkuhG"
      },
      "source": [
        "This section will help you get familiar with various functions of pandas and how to use them.\n",
        "\n",
        "As you go through this section, you will find a ??? in certain places. To complete this section, you must replace all the ??? with appropriate values, expressions or statements to ensure that the notebook runs properly end-to-end"
      ]
    },
    {
      "cell_type": "markdown",
      "metadata": {
        "id": "0ky8jz6vkuhG"
      },
      "source": [
        "\n",
        "Let's start by importing the pandas library"
      ]
    },
    {
      "cell_type": "code",
      "execution_count": null,
      "metadata": {
        "id": "F_P2upkdkuhG"
      },
      "outputs": [],
      "source": [
        "import pandas as pd"
      ]
    },
    {
      "cell_type": "markdown",
      "metadata": {
        "id": "KIOM97IwkuhG"
      },
      "source": [
        "### **Loading data using url**"
      ]
    },
    {
      "cell_type": "code",
      "execution_count": null,
      "metadata": {
        "id": "saHzZC87kuhH",
        "colab": {
          "base_uri": "https://localhost:8080/",
          "height": 423
        },
        "outputId": "31bff5a2-ea99-4910-fe27-256c374477c9"
      },
      "outputs": [
        {
          "output_type": "execute_result",
          "data": {
            "text/plain": [
              "             Country                               Region  Population  \\\n",
              "0       Afghanistan         ASIA (EX. NEAR EAST)             31056997   \n",
              "1           Albania   EASTERN EUROPE                          3581655   \n",
              "2           Algeria   NORTHERN AFRICA                        32930091   \n",
              "3    American Samoa   OCEANIA                                   57794   \n",
              "4           Andorra   WESTERN EUROPE                            71201   \n",
              "..               ...                                  ...         ...   \n",
              "222       West Bank   NEAR EAST                               2460492   \n",
              "223  Western Sahara   NORTHERN AFRICA                          273008   \n",
              "224           Yemen   NEAR EAST                              21456188   \n",
              "225          Zambia   SUB-SAHARAN AFRICA                     11502010   \n",
              "226        Zimbabwe   SUB-SAHARAN AFRICA                     12236805   \n",
              "\n",
              "     GDP ($ per capita)  Literacy (%)  Climate  \n",
              "0                 700.0          36.0      1.0  \n",
              "1                4500.0          86.5      3.0  \n",
              "2                6000.0          70.0      1.0  \n",
              "3                8000.0          97.0      2.0  \n",
              "4               19000.0         100.0      3.0  \n",
              "..                  ...           ...      ...  \n",
              "222               800.0           NaN      3.0  \n",
              "223                 NaN           NaN      1.0  \n",
              "224               800.0          50.2      1.0  \n",
              "225               800.0          80.6      2.0  \n",
              "226              1900.0          90.7      2.0  \n",
              "\n",
              "[227 rows x 6 columns]"
            ],
            "text/html": [
              "\n",
              "  <div id=\"df-1987f29f-1817-41e4-a5f3-1dd778a76752\" class=\"colab-df-container\">\n",
              "    <div>\n",
              "<style scoped>\n",
              "    .dataframe tbody tr th:only-of-type {\n",
              "        vertical-align: middle;\n",
              "    }\n",
              "\n",
              "    .dataframe tbody tr th {\n",
              "        vertical-align: top;\n",
              "    }\n",
              "\n",
              "    .dataframe thead th {\n",
              "        text-align: right;\n",
              "    }\n",
              "</style>\n",
              "<table border=\"1\" class=\"dataframe\">\n",
              "  <thead>\n",
              "    <tr style=\"text-align: right;\">\n",
              "      <th></th>\n",
              "      <th>Country</th>\n",
              "      <th>Region</th>\n",
              "      <th>Population</th>\n",
              "      <th>GDP ($ per capita)</th>\n",
              "      <th>Literacy (%)</th>\n",
              "      <th>Climate</th>\n",
              "    </tr>\n",
              "  </thead>\n",
              "  <tbody>\n",
              "    <tr>\n",
              "      <th>0</th>\n",
              "      <td>Afghanistan</td>\n",
              "      <td>ASIA (EX. NEAR EAST)</td>\n",
              "      <td>31056997</td>\n",
              "      <td>700.0</td>\n",
              "      <td>36.0</td>\n",
              "      <td>1.0</td>\n",
              "    </tr>\n",
              "    <tr>\n",
              "      <th>1</th>\n",
              "      <td>Albania</td>\n",
              "      <td>EASTERN EUROPE</td>\n",
              "      <td>3581655</td>\n",
              "      <td>4500.0</td>\n",
              "      <td>86.5</td>\n",
              "      <td>3.0</td>\n",
              "    </tr>\n",
              "    <tr>\n",
              "      <th>2</th>\n",
              "      <td>Algeria</td>\n",
              "      <td>NORTHERN AFRICA</td>\n",
              "      <td>32930091</td>\n",
              "      <td>6000.0</td>\n",
              "      <td>70.0</td>\n",
              "      <td>1.0</td>\n",
              "    </tr>\n",
              "    <tr>\n",
              "      <th>3</th>\n",
              "      <td>American Samoa</td>\n",
              "      <td>OCEANIA</td>\n",
              "      <td>57794</td>\n",
              "      <td>8000.0</td>\n",
              "      <td>97.0</td>\n",
              "      <td>2.0</td>\n",
              "    </tr>\n",
              "    <tr>\n",
              "      <th>4</th>\n",
              "      <td>Andorra</td>\n",
              "      <td>WESTERN EUROPE</td>\n",
              "      <td>71201</td>\n",
              "      <td>19000.0</td>\n",
              "      <td>100.0</td>\n",
              "      <td>3.0</td>\n",
              "    </tr>\n",
              "    <tr>\n",
              "      <th>...</th>\n",
              "      <td>...</td>\n",
              "      <td>...</td>\n",
              "      <td>...</td>\n",
              "      <td>...</td>\n",
              "      <td>...</td>\n",
              "      <td>...</td>\n",
              "    </tr>\n",
              "    <tr>\n",
              "      <th>222</th>\n",
              "      <td>West Bank</td>\n",
              "      <td>NEAR EAST</td>\n",
              "      <td>2460492</td>\n",
              "      <td>800.0</td>\n",
              "      <td>NaN</td>\n",
              "      <td>3.0</td>\n",
              "    </tr>\n",
              "    <tr>\n",
              "      <th>223</th>\n",
              "      <td>Western Sahara</td>\n",
              "      <td>NORTHERN AFRICA</td>\n",
              "      <td>273008</td>\n",
              "      <td>NaN</td>\n",
              "      <td>NaN</td>\n",
              "      <td>1.0</td>\n",
              "    </tr>\n",
              "    <tr>\n",
              "      <th>224</th>\n",
              "      <td>Yemen</td>\n",
              "      <td>NEAR EAST</td>\n",
              "      <td>21456188</td>\n",
              "      <td>800.0</td>\n",
              "      <td>50.2</td>\n",
              "      <td>1.0</td>\n",
              "    </tr>\n",
              "    <tr>\n",
              "      <th>225</th>\n",
              "      <td>Zambia</td>\n",
              "      <td>SUB-SAHARAN AFRICA</td>\n",
              "      <td>11502010</td>\n",
              "      <td>800.0</td>\n",
              "      <td>80.6</td>\n",
              "      <td>2.0</td>\n",
              "    </tr>\n",
              "    <tr>\n",
              "      <th>226</th>\n",
              "      <td>Zimbabwe</td>\n",
              "      <td>SUB-SAHARAN AFRICA</td>\n",
              "      <td>12236805</td>\n",
              "      <td>1900.0</td>\n",
              "      <td>90.7</td>\n",
              "      <td>2.0</td>\n",
              "    </tr>\n",
              "  </tbody>\n",
              "</table>\n",
              "<p>227 rows × 6 columns</p>\n",
              "</div>\n",
              "    <div class=\"colab-df-buttons\">\n",
              "\n",
              "  <div class=\"colab-df-container\">\n",
              "    <button class=\"colab-df-convert\" onclick=\"convertToInteractive('df-1987f29f-1817-41e4-a5f3-1dd778a76752')\"\n",
              "            title=\"Convert this dataframe to an interactive table.\"\n",
              "            style=\"display:none;\">\n",
              "\n",
              "  <svg xmlns=\"http://www.w3.org/2000/svg\" height=\"24px\" viewBox=\"0 -960 960 960\">\n",
              "    <path d=\"M120-120v-720h720v720H120Zm60-500h600v-160H180v160Zm220 220h160v-160H400v160Zm0 220h160v-160H400v160ZM180-400h160v-160H180v160Zm440 0h160v-160H620v160ZM180-180h160v-160H180v160Zm440 0h160v-160H620v160Z\"/>\n",
              "  </svg>\n",
              "    </button>\n",
              "\n",
              "  <style>\n",
              "    .colab-df-container {\n",
              "      display:flex;\n",
              "      gap: 12px;\n",
              "    }\n",
              "\n",
              "    .colab-df-convert {\n",
              "      background-color: #E8F0FE;\n",
              "      border: none;\n",
              "      border-radius: 50%;\n",
              "      cursor: pointer;\n",
              "      display: none;\n",
              "      fill: #1967D2;\n",
              "      height: 32px;\n",
              "      padding: 0 0 0 0;\n",
              "      width: 32px;\n",
              "    }\n",
              "\n",
              "    .colab-df-convert:hover {\n",
              "      background-color: #E2EBFA;\n",
              "      box-shadow: 0px 1px 2px rgba(60, 64, 67, 0.3), 0px 1px 3px 1px rgba(60, 64, 67, 0.15);\n",
              "      fill: #174EA6;\n",
              "    }\n",
              "\n",
              "    .colab-df-buttons div {\n",
              "      margin-bottom: 4px;\n",
              "    }\n",
              "\n",
              "    [theme=dark] .colab-df-convert {\n",
              "      background-color: #3B4455;\n",
              "      fill: #D2E3FC;\n",
              "    }\n",
              "\n",
              "    [theme=dark] .colab-df-convert:hover {\n",
              "      background-color: #434B5C;\n",
              "      box-shadow: 0px 1px 3px 1px rgba(0, 0, 0, 0.15);\n",
              "      filter: drop-shadow(0px 1px 2px rgba(0, 0, 0, 0.3));\n",
              "      fill: #FFFFFF;\n",
              "    }\n",
              "  </style>\n",
              "\n",
              "    <script>\n",
              "      const buttonEl =\n",
              "        document.querySelector('#df-1987f29f-1817-41e4-a5f3-1dd778a76752 button.colab-df-convert');\n",
              "      buttonEl.style.display =\n",
              "        google.colab.kernel.accessAllowed ? 'block' : 'none';\n",
              "\n",
              "      async function convertToInteractive(key) {\n",
              "        const element = document.querySelector('#df-1987f29f-1817-41e4-a5f3-1dd778a76752');\n",
              "        const dataTable =\n",
              "          await google.colab.kernel.invokeFunction('convertToInteractive',\n",
              "                                                    [key], {});\n",
              "        if (!dataTable) return;\n",
              "\n",
              "        const docLinkHtml = 'Like what you see? Visit the ' +\n",
              "          '<a target=\"_blank\" href=https://colab.research.google.com/notebooks/data_table.ipynb>data table notebook</a>'\n",
              "          + ' to learn more about interactive tables.';\n",
              "        element.innerHTML = '';\n",
              "        dataTable['output_type'] = 'display_data';\n",
              "        await google.colab.output.renderOutput(dataTable, element);\n",
              "        const docLink = document.createElement('div');\n",
              "        docLink.innerHTML = docLinkHtml;\n",
              "        element.appendChild(docLink);\n",
              "      }\n",
              "    </script>\n",
              "  </div>\n",
              "\n",
              "\n",
              "<div id=\"df-4c40cd7e-b841-4f67-9a18-2f994562d2f6\">\n",
              "  <button class=\"colab-df-quickchart\" onclick=\"quickchart('df-4c40cd7e-b841-4f67-9a18-2f994562d2f6')\"\n",
              "            title=\"Suggest charts\"\n",
              "            style=\"display:none;\">\n",
              "\n",
              "<svg xmlns=\"http://www.w3.org/2000/svg\" height=\"24px\"viewBox=\"0 0 24 24\"\n",
              "     width=\"24px\">\n",
              "    <g>\n",
              "        <path d=\"M19 3H5c-1.1 0-2 .9-2 2v14c0 1.1.9 2 2 2h14c1.1 0 2-.9 2-2V5c0-1.1-.9-2-2-2zM9 17H7v-7h2v7zm4 0h-2V7h2v10zm4 0h-2v-4h2v4z\"/>\n",
              "    </g>\n",
              "</svg>\n",
              "  </button>\n",
              "\n",
              "<style>\n",
              "  .colab-df-quickchart {\n",
              "      --bg-color: #E8F0FE;\n",
              "      --fill-color: #1967D2;\n",
              "      --hover-bg-color: #E2EBFA;\n",
              "      --hover-fill-color: #174EA6;\n",
              "      --disabled-fill-color: #AAA;\n",
              "      --disabled-bg-color: #DDD;\n",
              "  }\n",
              "\n",
              "  [theme=dark] .colab-df-quickchart {\n",
              "      --bg-color: #3B4455;\n",
              "      --fill-color: #D2E3FC;\n",
              "      --hover-bg-color: #434B5C;\n",
              "      --hover-fill-color: #FFFFFF;\n",
              "      --disabled-bg-color: #3B4455;\n",
              "      --disabled-fill-color: #666;\n",
              "  }\n",
              "\n",
              "  .colab-df-quickchart {\n",
              "    background-color: var(--bg-color);\n",
              "    border: none;\n",
              "    border-radius: 50%;\n",
              "    cursor: pointer;\n",
              "    display: none;\n",
              "    fill: var(--fill-color);\n",
              "    height: 32px;\n",
              "    padding: 0;\n",
              "    width: 32px;\n",
              "  }\n",
              "\n",
              "  .colab-df-quickchart:hover {\n",
              "    background-color: var(--hover-bg-color);\n",
              "    box-shadow: 0 1px 2px rgba(60, 64, 67, 0.3), 0 1px 3px 1px rgba(60, 64, 67, 0.15);\n",
              "    fill: var(--button-hover-fill-color);\n",
              "  }\n",
              "\n",
              "  .colab-df-quickchart-complete:disabled,\n",
              "  .colab-df-quickchart-complete:disabled:hover {\n",
              "    background-color: var(--disabled-bg-color);\n",
              "    fill: var(--disabled-fill-color);\n",
              "    box-shadow: none;\n",
              "  }\n",
              "\n",
              "  .colab-df-spinner {\n",
              "    border: 2px solid var(--fill-color);\n",
              "    border-color: transparent;\n",
              "    border-bottom-color: var(--fill-color);\n",
              "    animation:\n",
              "      spin 1s steps(1) infinite;\n",
              "  }\n",
              "\n",
              "  @keyframes spin {\n",
              "    0% {\n",
              "      border-color: transparent;\n",
              "      border-bottom-color: var(--fill-color);\n",
              "      border-left-color: var(--fill-color);\n",
              "    }\n",
              "    20% {\n",
              "      border-color: transparent;\n",
              "      border-left-color: var(--fill-color);\n",
              "      border-top-color: var(--fill-color);\n",
              "    }\n",
              "    30% {\n",
              "      border-color: transparent;\n",
              "      border-left-color: var(--fill-color);\n",
              "      border-top-color: var(--fill-color);\n",
              "      border-right-color: var(--fill-color);\n",
              "    }\n",
              "    40% {\n",
              "      border-color: transparent;\n",
              "      border-right-color: var(--fill-color);\n",
              "      border-top-color: var(--fill-color);\n",
              "    }\n",
              "    60% {\n",
              "      border-color: transparent;\n",
              "      border-right-color: var(--fill-color);\n",
              "    }\n",
              "    80% {\n",
              "      border-color: transparent;\n",
              "      border-right-color: var(--fill-color);\n",
              "      border-bottom-color: var(--fill-color);\n",
              "    }\n",
              "    90% {\n",
              "      border-color: transparent;\n",
              "      border-bottom-color: var(--fill-color);\n",
              "    }\n",
              "  }\n",
              "</style>\n",
              "\n",
              "  <script>\n",
              "    async function quickchart(key) {\n",
              "      const quickchartButtonEl =\n",
              "        document.querySelector('#' + key + ' button');\n",
              "      quickchartButtonEl.disabled = true;  // To prevent multiple clicks.\n",
              "      quickchartButtonEl.classList.add('colab-df-spinner');\n",
              "      try {\n",
              "        const charts = await google.colab.kernel.invokeFunction(\n",
              "            'suggestCharts', [key], {});\n",
              "      } catch (error) {\n",
              "        console.error('Error during call to suggestCharts:', error);\n",
              "      }\n",
              "      quickchartButtonEl.classList.remove('colab-df-spinner');\n",
              "      quickchartButtonEl.classList.add('colab-df-quickchart-complete');\n",
              "    }\n",
              "    (() => {\n",
              "      let quickchartButtonEl =\n",
              "        document.querySelector('#df-4c40cd7e-b841-4f67-9a18-2f994562d2f6 button');\n",
              "      quickchartButtonEl.style.display =\n",
              "        google.colab.kernel.accessAllowed ? 'block' : 'none';\n",
              "    })();\n",
              "  </script>\n",
              "</div>\n",
              "\n",
              "  <div id=\"id_9927b561-2e91-432a-a645-51eb9075b117\">\n",
              "    <style>\n",
              "      .colab-df-generate {\n",
              "        background-color: #E8F0FE;\n",
              "        border: none;\n",
              "        border-radius: 50%;\n",
              "        cursor: pointer;\n",
              "        display: none;\n",
              "        fill: #1967D2;\n",
              "        height: 32px;\n",
              "        padding: 0 0 0 0;\n",
              "        width: 32px;\n",
              "      }\n",
              "\n",
              "      .colab-df-generate:hover {\n",
              "        background-color: #E2EBFA;\n",
              "        box-shadow: 0px 1px 2px rgba(60, 64, 67, 0.3), 0px 1px 3px 1px rgba(60, 64, 67, 0.15);\n",
              "        fill: #174EA6;\n",
              "      }\n",
              "\n",
              "      [theme=dark] .colab-df-generate {\n",
              "        background-color: #3B4455;\n",
              "        fill: #D2E3FC;\n",
              "      }\n",
              "\n",
              "      [theme=dark] .colab-df-generate:hover {\n",
              "        background-color: #434B5C;\n",
              "        box-shadow: 0px 1px 3px 1px rgba(0, 0, 0, 0.15);\n",
              "        filter: drop-shadow(0px 1px 2px rgba(0, 0, 0, 0.3));\n",
              "        fill: #FFFFFF;\n",
              "      }\n",
              "    </style>\n",
              "    <button class=\"colab-df-generate\" onclick=\"generateWithVariable('df')\"\n",
              "            title=\"Generate code using this dataframe.\"\n",
              "            style=\"display:none;\">\n",
              "\n",
              "  <svg xmlns=\"http://www.w3.org/2000/svg\" height=\"24px\"viewBox=\"0 0 24 24\"\n",
              "       width=\"24px\">\n",
              "    <path d=\"M7,19H8.4L18.45,9,17,7.55,7,17.6ZM5,21V16.75L18.45,3.32a2,2,0,0,1,2.83,0l1.4,1.43a1.91,1.91,0,0,1,.58,1.4,1.91,1.91,0,0,1-.58,1.4L9.25,21ZM18.45,9,17,7.55Zm-12,3A5.31,5.31,0,0,0,4.9,8.1,5.31,5.31,0,0,0,1,6.5,5.31,5.31,0,0,0,4.9,4.9,5.31,5.31,0,0,0,6.5,1,5.31,5.31,0,0,0,8.1,4.9,5.31,5.31,0,0,0,12,6.5,5.46,5.46,0,0,0,6.5,12Z\"/>\n",
              "  </svg>\n",
              "    </button>\n",
              "    <script>\n",
              "      (() => {\n",
              "      const buttonEl =\n",
              "        document.querySelector('#id_9927b561-2e91-432a-a645-51eb9075b117 button.colab-df-generate');\n",
              "      buttonEl.style.display =\n",
              "        google.colab.kernel.accessAllowed ? 'block' : 'none';\n",
              "\n",
              "      buttonEl.onclick = () => {\n",
              "        google.colab.notebook.generateWithVariable('df');\n",
              "      }\n",
              "      })();\n",
              "    </script>\n",
              "  </div>\n",
              "\n",
              "    </div>\n",
              "  </div>\n"
            ],
            "application/vnd.google.colaboratory.intrinsic+json": {
              "type": "dataframe",
              "variable_name": "df",
              "summary": "{\n  \"name\": \"df\",\n  \"rows\": 227,\n  \"fields\": [\n    {\n      \"column\": \"Country\",\n      \"properties\": {\n        \"dtype\": \"string\",\n        \"num_unique_values\": 227,\n        \"samples\": [\n          \"Armenia \",\n          \"Namibia \",\n          \"Bahrain \"\n        ],\n        \"semantic_type\": \"\",\n        \"description\": \"\"\n      }\n    },\n    {\n      \"column\": \"Region\",\n      \"properties\": {\n        \"dtype\": \"category\",\n        \"num_unique_values\": 11,\n        \"samples\": [\n          \"SUB-SAHARAN AFRICA                 \",\n          \"ASIA (EX. NEAR EAST)         \",\n          \"NORTHERN AMERICA                   \"\n        ],\n        \"semantic_type\": \"\",\n        \"description\": \"\"\n      }\n    },\n    {\n      \"column\": \"Population\",\n      \"properties\": {\n        \"dtype\": \"number\",\n        \"std\": 117891326,\n        \"min\": 7026,\n        \"max\": 1313973713,\n        \"num_unique_values\": 227,\n        \"samples\": [\n          2976372,\n          2044147,\n          698585\n        ],\n        \"semantic_type\": \"\",\n        \"description\": \"\"\n      }\n    },\n    {\n      \"column\": \"GDP ($ per capita)\",\n      \"properties\": {\n        \"dtype\": \"number\",\n        \"std\": 10049.13851319723,\n        \"min\": 500.0,\n        \"max\": 55100.0,\n        \"num_unique_values\": 130,\n        \"samples\": [\n          5500.0,\n          19200.0,\n          4900.0\n        ],\n        \"semantic_type\": \"\",\n        \"description\": \"\"\n      }\n    },\n    {\n      \"column\": \"Literacy (%)\",\n      \"properties\": {\n        \"dtype\": \"number\",\n        \"std\": 19.722172920626125,\n        \"min\": 17.6,\n        \"max\": 100.0,\n        \"num_unique_values\": 140,\n        \"samples\": [\n          64.6,\n          99.4,\n          47.5\n        ],\n        \"semantic_type\": \"\",\n        \"description\": \"\"\n      }\n    },\n    {\n      \"column\": \"Climate\",\n      \"properties\": {\n        \"dtype\": \"number\",\n        \"std\": 0.6993968160243118,\n        \"min\": 1.0,\n        \"max\": 4.0,\n        \"num_unique_values\": 6,\n        \"samples\": [\n          1.0,\n          3.0,\n          2.5\n        ],\n        \"semantic_type\": \"\",\n        \"description\": \"\"\n      }\n    }\n  ]\n}"
            }
          },
          "metadata": {},
          "execution_count": 18
        }
      ],
      "source": [
        "url = \"https://raw.githubusercontent.com/Mehul-Agrawal410/SpeakSpeare/main/Week%201/countries.csv\"\n",
        "\n",
        "df = pd.read_csv(url)\n",
        "df"
      ]
    },
    {
      "cell_type": "markdown",
      "metadata": {
        "id": "IZpC6x78kuhH"
      },
      "source": [
        "*(Optional)*: You can rename the columns for your convenience later on. Look up the syntax for renaming columns"
      ]
    },
    {
      "cell_type": "code",
      "execution_count": null,
      "metadata": {
        "id": "_O2mUQC5kuhH"
      },
      "outputs": [],
      "source": []
    },
    {
      "cell_type": "markdown",
      "metadata": {
        "id": "tw9SUpdtkuhI"
      },
      "source": [
        "**Q1: How many countries does the dataframe contain?**\n",
        "\n",
        "Hint: Use the `.shape` method."
      ]
    },
    {
      "cell_type": "code",
      "execution_count": null,
      "metadata": {
        "id": "k6rWIie5kuhI",
        "colab": {
          "base_uri": "https://localhost:8080/"
        },
        "outputId": "66b8b1a4-86a5-4ab4-f783-e744eb1e01f9"
      },
      "outputs": [
        {
          "output_type": "stream",
          "name": "stdout",
          "text": [
            "There are 227 countries in the dataset\n"
          ]
        }
      ],
      "source": [
        "num_countries = df['Country'].count()\n",
        "print(f'There are {num_countries} countries in the dataset')"
      ]
    },
    {
      "cell_type": "markdown",
      "metadata": {
        "id": "bdYU22SVkuhI"
      },
      "source": [
        "**Q2: Retrieve a list of the Regions from the dataframe?**\n",
        "\n",
        "*Hint: Use the `.unique` method of a series.*"
      ]
    },
    {
      "cell_type": "code",
      "execution_count": null,
      "metadata": {
        "id": "m4EWf5cckuhJ",
        "colab": {
          "base_uri": "https://localhost:8080/"
        },
        "outputId": "7358f6ea-de80-463d-dac0-baee2dd42b65"
      },
      "outputs": [
        {
          "output_type": "execute_result",
          "data": {
            "text/plain": [
              "array(['ASIA (EX. NEAR EAST)         ',\n",
              "       'EASTERN EUROPE                     ',\n",
              "       'NORTHERN AFRICA                    ',\n",
              "       'OCEANIA                            ',\n",
              "       'WESTERN EUROPE                     ',\n",
              "       'SUB-SAHARAN AFRICA                 ', 'LATIN AMER. & CARIB    ',\n",
              "       'C.W. OF IND. STATES ', 'NEAR EAST                          ',\n",
              "       'NORTHERN AMERICA                   ',\n",
              "       'BALTICS                            '], dtype=object)"
            ]
          },
          "metadata": {},
          "execution_count": 20
        }
      ],
      "source": [
        "continents = df['Region'].unique()\n",
        "\n",
        "continents.shape\n",
        "continents"
      ]
    },
    {
      "cell_type": "markdown",
      "metadata": {
        "id": "fgb_wEOtkuhJ"
      },
      "source": [
        "**Q3: What is the total population of all the countries listed in this dataset?**"
      ]
    },
    {
      "cell_type": "code",
      "execution_count": null,
      "metadata": {
        "id": "zPDlXaYHkuhS",
        "colab": {
          "base_uri": "https://localhost:8080/"
        },
        "outputId": "a0c9cf81-94ea-4d3d-9698-e84d74eb0294"
      },
      "outputs": [
        {
          "output_type": "stream",
          "name": "stdout",
          "text": [
            "The total population is 6524044551.\n"
          ]
        }
      ],
      "source": [
        "total_population = df['Population'].sum()\n",
        "print(f'The total population is {total_population}.')"
      ]
    },
    {
      "cell_type": "markdown",
      "metadata": {
        "id": "jFxZbJGCkuhS"
      },
      "source": [
        "**Q4: Create a dataframe containing 10 countries with the highest population.**\n",
        "\n",
        "*Hint: Chain the `sort_values` and `head` methods.*"
      ]
    },
    {
      "cell_type": "code",
      "execution_count": null,
      "metadata": {
        "id": "rcq8vPngkuhT",
        "colab": {
          "base_uri": "https://localhost:8080/",
          "height": 363
        },
        "outputId": "8fd12244-062a-4cdd-c52f-3fee8d5cea74"
      },
      "outputs": [
        {
          "output_type": "execute_result",
          "data": {
            "text/plain": [
              "            Country                               Region  Population  \\\n",
              "42           China         ASIA (EX. NEAR EAST)           1313973713   \n",
              "94           India         ASIA (EX. NEAR EAST)           1095351995   \n",
              "214  United States   NORTHERN AMERICA                      298444215   \n",
              "95       Indonesia         ASIA (EX. NEAR EAST)            245452739   \n",
              "27          Brazil               LATIN AMER. & CARIB       188078227   \n",
              "156       Pakistan         ASIA (EX. NEAR EAST)            165803560   \n",
              "16      Bangladesh         ASIA (EX. NEAR EAST)            147365352   \n",
              "169         Russia                  C.W. OF IND. STATES    142893540   \n",
              "152        Nigeria   SUB-SAHARAN AFRICA                    131859731   \n",
              "103          Japan         ASIA (EX. NEAR EAST)            127463611   \n",
              "\n",
              "     GDP ($ per capita)  Literacy (%)  Climate  \n",
              "42               5000.0          90.9      1.5  \n",
              "94               2900.0          59.5      2.5  \n",
              "214             37800.0          97.0      3.0  \n",
              "95               3200.0          87.9      2.0  \n",
              "27               7600.0          86.4      2.0  \n",
              "156              2100.0          45.7      1.0  \n",
              "16               1900.0          43.1      2.0  \n",
              "169              8900.0          99.6      NaN  \n",
              "152               900.0          68.0      1.5  \n",
              "103             28200.0          99.0      3.0  "
            ],
            "text/html": [
              "\n",
              "  <div id=\"df-c443bd75-e735-440b-b91e-5b7fa92785a9\" class=\"colab-df-container\">\n",
              "    <div>\n",
              "<style scoped>\n",
              "    .dataframe tbody tr th:only-of-type {\n",
              "        vertical-align: middle;\n",
              "    }\n",
              "\n",
              "    .dataframe tbody tr th {\n",
              "        vertical-align: top;\n",
              "    }\n",
              "\n",
              "    .dataframe thead th {\n",
              "        text-align: right;\n",
              "    }\n",
              "</style>\n",
              "<table border=\"1\" class=\"dataframe\">\n",
              "  <thead>\n",
              "    <tr style=\"text-align: right;\">\n",
              "      <th></th>\n",
              "      <th>Country</th>\n",
              "      <th>Region</th>\n",
              "      <th>Population</th>\n",
              "      <th>GDP ($ per capita)</th>\n",
              "      <th>Literacy (%)</th>\n",
              "      <th>Climate</th>\n",
              "    </tr>\n",
              "  </thead>\n",
              "  <tbody>\n",
              "    <tr>\n",
              "      <th>42</th>\n",
              "      <td>China</td>\n",
              "      <td>ASIA (EX. NEAR EAST)</td>\n",
              "      <td>1313973713</td>\n",
              "      <td>5000.0</td>\n",
              "      <td>90.9</td>\n",
              "      <td>1.5</td>\n",
              "    </tr>\n",
              "    <tr>\n",
              "      <th>94</th>\n",
              "      <td>India</td>\n",
              "      <td>ASIA (EX. NEAR EAST)</td>\n",
              "      <td>1095351995</td>\n",
              "      <td>2900.0</td>\n",
              "      <td>59.5</td>\n",
              "      <td>2.5</td>\n",
              "    </tr>\n",
              "    <tr>\n",
              "      <th>214</th>\n",
              "      <td>United States</td>\n",
              "      <td>NORTHERN AMERICA</td>\n",
              "      <td>298444215</td>\n",
              "      <td>37800.0</td>\n",
              "      <td>97.0</td>\n",
              "      <td>3.0</td>\n",
              "    </tr>\n",
              "    <tr>\n",
              "      <th>95</th>\n",
              "      <td>Indonesia</td>\n",
              "      <td>ASIA (EX. NEAR EAST)</td>\n",
              "      <td>245452739</td>\n",
              "      <td>3200.0</td>\n",
              "      <td>87.9</td>\n",
              "      <td>2.0</td>\n",
              "    </tr>\n",
              "    <tr>\n",
              "      <th>27</th>\n",
              "      <td>Brazil</td>\n",
              "      <td>LATIN AMER. &amp; CARIB</td>\n",
              "      <td>188078227</td>\n",
              "      <td>7600.0</td>\n",
              "      <td>86.4</td>\n",
              "      <td>2.0</td>\n",
              "    </tr>\n",
              "    <tr>\n",
              "      <th>156</th>\n",
              "      <td>Pakistan</td>\n",
              "      <td>ASIA (EX. NEAR EAST)</td>\n",
              "      <td>165803560</td>\n",
              "      <td>2100.0</td>\n",
              "      <td>45.7</td>\n",
              "      <td>1.0</td>\n",
              "    </tr>\n",
              "    <tr>\n",
              "      <th>16</th>\n",
              "      <td>Bangladesh</td>\n",
              "      <td>ASIA (EX. NEAR EAST)</td>\n",
              "      <td>147365352</td>\n",
              "      <td>1900.0</td>\n",
              "      <td>43.1</td>\n",
              "      <td>2.0</td>\n",
              "    </tr>\n",
              "    <tr>\n",
              "      <th>169</th>\n",
              "      <td>Russia</td>\n",
              "      <td>C.W. OF IND. STATES</td>\n",
              "      <td>142893540</td>\n",
              "      <td>8900.0</td>\n",
              "      <td>99.6</td>\n",
              "      <td>NaN</td>\n",
              "    </tr>\n",
              "    <tr>\n",
              "      <th>152</th>\n",
              "      <td>Nigeria</td>\n",
              "      <td>SUB-SAHARAN AFRICA</td>\n",
              "      <td>131859731</td>\n",
              "      <td>900.0</td>\n",
              "      <td>68.0</td>\n",
              "      <td>1.5</td>\n",
              "    </tr>\n",
              "    <tr>\n",
              "      <th>103</th>\n",
              "      <td>Japan</td>\n",
              "      <td>ASIA (EX. NEAR EAST)</td>\n",
              "      <td>127463611</td>\n",
              "      <td>28200.0</td>\n",
              "      <td>99.0</td>\n",
              "      <td>3.0</td>\n",
              "    </tr>\n",
              "  </tbody>\n",
              "</table>\n",
              "</div>\n",
              "    <div class=\"colab-df-buttons\">\n",
              "\n",
              "  <div class=\"colab-df-container\">\n",
              "    <button class=\"colab-df-convert\" onclick=\"convertToInteractive('df-c443bd75-e735-440b-b91e-5b7fa92785a9')\"\n",
              "            title=\"Convert this dataframe to an interactive table.\"\n",
              "            style=\"display:none;\">\n",
              "\n",
              "  <svg xmlns=\"http://www.w3.org/2000/svg\" height=\"24px\" viewBox=\"0 -960 960 960\">\n",
              "    <path d=\"M120-120v-720h720v720H120Zm60-500h600v-160H180v160Zm220 220h160v-160H400v160Zm0 220h160v-160H400v160ZM180-400h160v-160H180v160Zm440 0h160v-160H620v160ZM180-180h160v-160H180v160Zm440 0h160v-160H620v160Z\"/>\n",
              "  </svg>\n",
              "    </button>\n",
              "\n",
              "  <style>\n",
              "    .colab-df-container {\n",
              "      display:flex;\n",
              "      gap: 12px;\n",
              "    }\n",
              "\n",
              "    .colab-df-convert {\n",
              "      background-color: #E8F0FE;\n",
              "      border: none;\n",
              "      border-radius: 50%;\n",
              "      cursor: pointer;\n",
              "      display: none;\n",
              "      fill: #1967D2;\n",
              "      height: 32px;\n",
              "      padding: 0 0 0 0;\n",
              "      width: 32px;\n",
              "    }\n",
              "\n",
              "    .colab-df-convert:hover {\n",
              "      background-color: #E2EBFA;\n",
              "      box-shadow: 0px 1px 2px rgba(60, 64, 67, 0.3), 0px 1px 3px 1px rgba(60, 64, 67, 0.15);\n",
              "      fill: #174EA6;\n",
              "    }\n",
              "\n",
              "    .colab-df-buttons div {\n",
              "      margin-bottom: 4px;\n",
              "    }\n",
              "\n",
              "    [theme=dark] .colab-df-convert {\n",
              "      background-color: #3B4455;\n",
              "      fill: #D2E3FC;\n",
              "    }\n",
              "\n",
              "    [theme=dark] .colab-df-convert:hover {\n",
              "      background-color: #434B5C;\n",
              "      box-shadow: 0px 1px 3px 1px rgba(0, 0, 0, 0.15);\n",
              "      filter: drop-shadow(0px 1px 2px rgba(0, 0, 0, 0.3));\n",
              "      fill: #FFFFFF;\n",
              "    }\n",
              "  </style>\n",
              "\n",
              "    <script>\n",
              "      const buttonEl =\n",
              "        document.querySelector('#df-c443bd75-e735-440b-b91e-5b7fa92785a9 button.colab-df-convert');\n",
              "      buttonEl.style.display =\n",
              "        google.colab.kernel.accessAllowed ? 'block' : 'none';\n",
              "\n",
              "      async function convertToInteractive(key) {\n",
              "        const element = document.querySelector('#df-c443bd75-e735-440b-b91e-5b7fa92785a9');\n",
              "        const dataTable =\n",
              "          await google.colab.kernel.invokeFunction('convertToInteractive',\n",
              "                                                    [key], {});\n",
              "        if (!dataTable) return;\n",
              "\n",
              "        const docLinkHtml = 'Like what you see? Visit the ' +\n",
              "          '<a target=\"_blank\" href=https://colab.research.google.com/notebooks/data_table.ipynb>data table notebook</a>'\n",
              "          + ' to learn more about interactive tables.';\n",
              "        element.innerHTML = '';\n",
              "        dataTable['output_type'] = 'display_data';\n",
              "        await google.colab.output.renderOutput(dataTable, element);\n",
              "        const docLink = document.createElement('div');\n",
              "        docLink.innerHTML = docLinkHtml;\n",
              "        element.appendChild(docLink);\n",
              "      }\n",
              "    </script>\n",
              "  </div>\n",
              "\n",
              "\n",
              "<div id=\"df-d39b2b1f-6174-42c2-a424-9ac463342500\">\n",
              "  <button class=\"colab-df-quickchart\" onclick=\"quickchart('df-d39b2b1f-6174-42c2-a424-9ac463342500')\"\n",
              "            title=\"Suggest charts\"\n",
              "            style=\"display:none;\">\n",
              "\n",
              "<svg xmlns=\"http://www.w3.org/2000/svg\" height=\"24px\"viewBox=\"0 0 24 24\"\n",
              "     width=\"24px\">\n",
              "    <g>\n",
              "        <path d=\"M19 3H5c-1.1 0-2 .9-2 2v14c0 1.1.9 2 2 2h14c1.1 0 2-.9 2-2V5c0-1.1-.9-2-2-2zM9 17H7v-7h2v7zm4 0h-2V7h2v10zm4 0h-2v-4h2v4z\"/>\n",
              "    </g>\n",
              "</svg>\n",
              "  </button>\n",
              "\n",
              "<style>\n",
              "  .colab-df-quickchart {\n",
              "      --bg-color: #E8F0FE;\n",
              "      --fill-color: #1967D2;\n",
              "      --hover-bg-color: #E2EBFA;\n",
              "      --hover-fill-color: #174EA6;\n",
              "      --disabled-fill-color: #AAA;\n",
              "      --disabled-bg-color: #DDD;\n",
              "  }\n",
              "\n",
              "  [theme=dark] .colab-df-quickchart {\n",
              "      --bg-color: #3B4455;\n",
              "      --fill-color: #D2E3FC;\n",
              "      --hover-bg-color: #434B5C;\n",
              "      --hover-fill-color: #FFFFFF;\n",
              "      --disabled-bg-color: #3B4455;\n",
              "      --disabled-fill-color: #666;\n",
              "  }\n",
              "\n",
              "  .colab-df-quickchart {\n",
              "    background-color: var(--bg-color);\n",
              "    border: none;\n",
              "    border-radius: 50%;\n",
              "    cursor: pointer;\n",
              "    display: none;\n",
              "    fill: var(--fill-color);\n",
              "    height: 32px;\n",
              "    padding: 0;\n",
              "    width: 32px;\n",
              "  }\n",
              "\n",
              "  .colab-df-quickchart:hover {\n",
              "    background-color: var(--hover-bg-color);\n",
              "    box-shadow: 0 1px 2px rgba(60, 64, 67, 0.3), 0 1px 3px 1px rgba(60, 64, 67, 0.15);\n",
              "    fill: var(--button-hover-fill-color);\n",
              "  }\n",
              "\n",
              "  .colab-df-quickchart-complete:disabled,\n",
              "  .colab-df-quickchart-complete:disabled:hover {\n",
              "    background-color: var(--disabled-bg-color);\n",
              "    fill: var(--disabled-fill-color);\n",
              "    box-shadow: none;\n",
              "  }\n",
              "\n",
              "  .colab-df-spinner {\n",
              "    border: 2px solid var(--fill-color);\n",
              "    border-color: transparent;\n",
              "    border-bottom-color: var(--fill-color);\n",
              "    animation:\n",
              "      spin 1s steps(1) infinite;\n",
              "  }\n",
              "\n",
              "  @keyframes spin {\n",
              "    0% {\n",
              "      border-color: transparent;\n",
              "      border-bottom-color: var(--fill-color);\n",
              "      border-left-color: var(--fill-color);\n",
              "    }\n",
              "    20% {\n",
              "      border-color: transparent;\n",
              "      border-left-color: var(--fill-color);\n",
              "      border-top-color: var(--fill-color);\n",
              "    }\n",
              "    30% {\n",
              "      border-color: transparent;\n",
              "      border-left-color: var(--fill-color);\n",
              "      border-top-color: var(--fill-color);\n",
              "      border-right-color: var(--fill-color);\n",
              "    }\n",
              "    40% {\n",
              "      border-color: transparent;\n",
              "      border-right-color: var(--fill-color);\n",
              "      border-top-color: var(--fill-color);\n",
              "    }\n",
              "    60% {\n",
              "      border-color: transparent;\n",
              "      border-right-color: var(--fill-color);\n",
              "    }\n",
              "    80% {\n",
              "      border-color: transparent;\n",
              "      border-right-color: var(--fill-color);\n",
              "      border-bottom-color: var(--fill-color);\n",
              "    }\n",
              "    90% {\n",
              "      border-color: transparent;\n",
              "      border-bottom-color: var(--fill-color);\n",
              "    }\n",
              "  }\n",
              "</style>\n",
              "\n",
              "  <script>\n",
              "    async function quickchart(key) {\n",
              "      const quickchartButtonEl =\n",
              "        document.querySelector('#' + key + ' button');\n",
              "      quickchartButtonEl.disabled = true;  // To prevent multiple clicks.\n",
              "      quickchartButtonEl.classList.add('colab-df-spinner');\n",
              "      try {\n",
              "        const charts = await google.colab.kernel.invokeFunction(\n",
              "            'suggestCharts', [key], {});\n",
              "      } catch (error) {\n",
              "        console.error('Error during call to suggestCharts:', error);\n",
              "      }\n",
              "      quickchartButtonEl.classList.remove('colab-df-spinner');\n",
              "      quickchartButtonEl.classList.add('colab-df-quickchart-complete');\n",
              "    }\n",
              "    (() => {\n",
              "      let quickchartButtonEl =\n",
              "        document.querySelector('#df-d39b2b1f-6174-42c2-a424-9ac463342500 button');\n",
              "      quickchartButtonEl.style.display =\n",
              "        google.colab.kernel.accessAllowed ? 'block' : 'none';\n",
              "    })();\n",
              "  </script>\n",
              "</div>\n",
              "\n",
              "  <div id=\"id_026cbca2-2651-4c46-a44a-4fe578b5c116\">\n",
              "    <style>\n",
              "      .colab-df-generate {\n",
              "        background-color: #E8F0FE;\n",
              "        border: none;\n",
              "        border-radius: 50%;\n",
              "        cursor: pointer;\n",
              "        display: none;\n",
              "        fill: #1967D2;\n",
              "        height: 32px;\n",
              "        padding: 0 0 0 0;\n",
              "        width: 32px;\n",
              "      }\n",
              "\n",
              "      .colab-df-generate:hover {\n",
              "        background-color: #E2EBFA;\n",
              "        box-shadow: 0px 1px 2px rgba(60, 64, 67, 0.3), 0px 1px 3px 1px rgba(60, 64, 67, 0.15);\n",
              "        fill: #174EA6;\n",
              "      }\n",
              "\n",
              "      [theme=dark] .colab-df-generate {\n",
              "        background-color: #3B4455;\n",
              "        fill: #D2E3FC;\n",
              "      }\n",
              "\n",
              "      [theme=dark] .colab-df-generate:hover {\n",
              "        background-color: #434B5C;\n",
              "        box-shadow: 0px 1px 3px 1px rgba(0, 0, 0, 0.15);\n",
              "        filter: drop-shadow(0px 1px 2px rgba(0, 0, 0, 0.3));\n",
              "        fill: #FFFFFF;\n",
              "      }\n",
              "    </style>\n",
              "    <button class=\"colab-df-generate\" onclick=\"generateWithVariable('most_populous_df')\"\n",
              "            title=\"Generate code using this dataframe.\"\n",
              "            style=\"display:none;\">\n",
              "\n",
              "  <svg xmlns=\"http://www.w3.org/2000/svg\" height=\"24px\"viewBox=\"0 0 24 24\"\n",
              "       width=\"24px\">\n",
              "    <path d=\"M7,19H8.4L18.45,9,17,7.55,7,17.6ZM5,21V16.75L18.45,3.32a2,2,0,0,1,2.83,0l1.4,1.43a1.91,1.91,0,0,1,.58,1.4,1.91,1.91,0,0,1-.58,1.4L9.25,21ZM18.45,9,17,7.55Zm-12,3A5.31,5.31,0,0,0,4.9,8.1,5.31,5.31,0,0,0,1,6.5,5.31,5.31,0,0,0,4.9,4.9,5.31,5.31,0,0,0,6.5,1,5.31,5.31,0,0,0,8.1,4.9,5.31,5.31,0,0,0,12,6.5,5.46,5.46,0,0,0,6.5,12Z\"/>\n",
              "  </svg>\n",
              "    </button>\n",
              "    <script>\n",
              "      (() => {\n",
              "      const buttonEl =\n",
              "        document.querySelector('#id_026cbca2-2651-4c46-a44a-4fe578b5c116 button.colab-df-generate');\n",
              "      buttonEl.style.display =\n",
              "        google.colab.kernel.accessAllowed ? 'block' : 'none';\n",
              "\n",
              "      buttonEl.onclick = () => {\n",
              "        google.colab.notebook.generateWithVariable('most_populous_df');\n",
              "      }\n",
              "      })();\n",
              "    </script>\n",
              "  </div>\n",
              "\n",
              "    </div>\n",
              "  </div>\n"
            ],
            "application/vnd.google.colaboratory.intrinsic+json": {
              "type": "dataframe",
              "variable_name": "most_populous_df",
              "summary": "{\n  \"name\": \"most_populous_df\",\n  \"rows\": 10,\n  \"fields\": [\n    {\n      \"column\": \"Country\",\n      \"properties\": {\n        \"dtype\": \"string\",\n        \"num_unique_values\": 10,\n        \"samples\": [\n          \"Nigeria \",\n          \"India \",\n          \"Pakistan \"\n        ],\n        \"semantic_type\": \"\",\n        \"description\": \"\"\n      }\n    },\n    {\n      \"column\": \"Region\",\n      \"properties\": {\n        \"dtype\": \"string\",\n        \"num_unique_values\": 5,\n        \"samples\": [\n          \"NORTHERN AMERICA                   \",\n          \"SUB-SAHARAN AFRICA                 \",\n          \"LATIN AMER. & CARIB    \"\n        ],\n        \"semantic_type\": \"\",\n        \"description\": \"\"\n      }\n    },\n    {\n      \"column\": \"Population\",\n      \"properties\": {\n        \"dtype\": \"number\",\n        \"std\": 438034626,\n        \"min\": 127463611,\n        \"max\": 1313973713,\n        \"num_unique_values\": 10,\n        \"samples\": [\n          131859731,\n          1095351995,\n          165803560\n        ],\n        \"semantic_type\": \"\",\n        \"description\": \"\"\n      }\n    },\n    {\n      \"column\": \"GDP ($ per capita)\",\n      \"properties\": {\n        \"dtype\": \"number\",\n        \"std\": 12663.618054182707,\n        \"min\": 900.0,\n        \"max\": 37800.0,\n        \"num_unique_values\": 10,\n        \"samples\": [\n          900.0,\n          2900.0,\n          2100.0\n        ],\n        \"semantic_type\": \"\",\n        \"description\": \"\"\n      }\n    },\n    {\n      \"column\": \"Literacy (%)\",\n      \"properties\": {\n        \"dtype\": \"number\",\n        \"std\": 21.874005374213272,\n        \"min\": 43.1,\n        \"max\": 99.6,\n        \"num_unique_values\": 10,\n        \"samples\": [\n          68.0,\n          59.5,\n          45.7\n        ],\n        \"semantic_type\": \"\",\n        \"description\": \"\"\n      }\n    },\n    {\n      \"column\": \"Climate\",\n      \"properties\": {\n        \"dtype\": \"number\",\n        \"std\": 0.6821127309893709,\n        \"min\": 1.0,\n        \"max\": 3.0,\n        \"num_unique_values\": 5,\n        \"samples\": [\n          2.5,\n          1.0,\n          3.0\n        ],\n        \"semantic_type\": \"\",\n        \"description\": \"\"\n      }\n    }\n  ]\n}"
            }
          },
          "metadata": {},
          "execution_count": 22
        }
      ],
      "source": [
        "most_populous_df = df.sort_values(['Population'],ascending=False).head(10)\n",
        "most_populous_df"
      ]
    },
    {
      "cell_type": "markdown",
      "metadata": {
        "id": "rQO-O0k7kuhT"
      },
      "source": [
        "**Q5: Add a new column in `countries_df` to record the overall GDP per country (product of population & per capita GDP).**"
      ]
    },
    {
      "cell_type": "code",
      "execution_count": null,
      "metadata": {
        "id": "8gmp4riukuhT",
        "colab": {
          "base_uri": "https://localhost:8080/",
          "height": 423
        },
        "outputId": "d6cb8548-f063-4652-c165-108b95b55688"
      },
      "outputs": [
        {
          "output_type": "execute_result",
          "data": {
            "text/plain": [
              "             Country                               Region  Population  \\\n",
              "0       Afghanistan         ASIA (EX. NEAR EAST)             31056997   \n",
              "1           Albania   EASTERN EUROPE                          3581655   \n",
              "2           Algeria   NORTHERN AFRICA                        32930091   \n",
              "3    American Samoa   OCEANIA                                   57794   \n",
              "4           Andorra   WESTERN EUROPE                            71201   \n",
              "..               ...                                  ...         ...   \n",
              "222       West Bank   NEAR EAST                               2460492   \n",
              "223  Western Sahara   NORTHERN AFRICA                          273008   \n",
              "224           Yemen   NEAR EAST                              21456188   \n",
              "225          Zambia   SUB-SAHARAN AFRICA                     11502010   \n",
              "226        Zimbabwe   SUB-SAHARAN AFRICA                     12236805   \n",
              "\n",
              "     GDP ($ per capita)  Literacy (%)  Climate           gdp  \n",
              "0                 700.0          36.0      1.0  2.173990e+10  \n",
              "1                4500.0          86.5      3.0  1.611745e+10  \n",
              "2                6000.0          70.0      1.0  1.975805e+11  \n",
              "3                8000.0          97.0      2.0  4.623520e+08  \n",
              "4               19000.0         100.0      3.0  1.352819e+09  \n",
              "..                  ...           ...      ...           ...  \n",
              "222               800.0           NaN      3.0  1.968394e+09  \n",
              "223                 NaN           NaN      1.0           NaN  \n",
              "224               800.0          50.2      1.0  1.716495e+10  \n",
              "225               800.0          80.6      2.0  9.201608e+09  \n",
              "226              1900.0          90.7      2.0  2.324993e+10  \n",
              "\n",
              "[227 rows x 7 columns]"
            ],
            "text/html": [
              "\n",
              "  <div id=\"df-e560f1a6-fb05-4cdc-8c21-c9292f9bee56\" class=\"colab-df-container\">\n",
              "    <div>\n",
              "<style scoped>\n",
              "    .dataframe tbody tr th:only-of-type {\n",
              "        vertical-align: middle;\n",
              "    }\n",
              "\n",
              "    .dataframe tbody tr th {\n",
              "        vertical-align: top;\n",
              "    }\n",
              "\n",
              "    .dataframe thead th {\n",
              "        text-align: right;\n",
              "    }\n",
              "</style>\n",
              "<table border=\"1\" class=\"dataframe\">\n",
              "  <thead>\n",
              "    <tr style=\"text-align: right;\">\n",
              "      <th></th>\n",
              "      <th>Country</th>\n",
              "      <th>Region</th>\n",
              "      <th>Population</th>\n",
              "      <th>GDP ($ per capita)</th>\n",
              "      <th>Literacy (%)</th>\n",
              "      <th>Climate</th>\n",
              "      <th>gdp</th>\n",
              "    </tr>\n",
              "  </thead>\n",
              "  <tbody>\n",
              "    <tr>\n",
              "      <th>0</th>\n",
              "      <td>Afghanistan</td>\n",
              "      <td>ASIA (EX. NEAR EAST)</td>\n",
              "      <td>31056997</td>\n",
              "      <td>700.0</td>\n",
              "      <td>36.0</td>\n",
              "      <td>1.0</td>\n",
              "      <td>2.173990e+10</td>\n",
              "    </tr>\n",
              "    <tr>\n",
              "      <th>1</th>\n",
              "      <td>Albania</td>\n",
              "      <td>EASTERN EUROPE</td>\n",
              "      <td>3581655</td>\n",
              "      <td>4500.0</td>\n",
              "      <td>86.5</td>\n",
              "      <td>3.0</td>\n",
              "      <td>1.611745e+10</td>\n",
              "    </tr>\n",
              "    <tr>\n",
              "      <th>2</th>\n",
              "      <td>Algeria</td>\n",
              "      <td>NORTHERN AFRICA</td>\n",
              "      <td>32930091</td>\n",
              "      <td>6000.0</td>\n",
              "      <td>70.0</td>\n",
              "      <td>1.0</td>\n",
              "      <td>1.975805e+11</td>\n",
              "    </tr>\n",
              "    <tr>\n",
              "      <th>3</th>\n",
              "      <td>American Samoa</td>\n",
              "      <td>OCEANIA</td>\n",
              "      <td>57794</td>\n",
              "      <td>8000.0</td>\n",
              "      <td>97.0</td>\n",
              "      <td>2.0</td>\n",
              "      <td>4.623520e+08</td>\n",
              "    </tr>\n",
              "    <tr>\n",
              "      <th>4</th>\n",
              "      <td>Andorra</td>\n",
              "      <td>WESTERN EUROPE</td>\n",
              "      <td>71201</td>\n",
              "      <td>19000.0</td>\n",
              "      <td>100.0</td>\n",
              "      <td>3.0</td>\n",
              "      <td>1.352819e+09</td>\n",
              "    </tr>\n",
              "    <tr>\n",
              "      <th>...</th>\n",
              "      <td>...</td>\n",
              "      <td>...</td>\n",
              "      <td>...</td>\n",
              "      <td>...</td>\n",
              "      <td>...</td>\n",
              "      <td>...</td>\n",
              "      <td>...</td>\n",
              "    </tr>\n",
              "    <tr>\n",
              "      <th>222</th>\n",
              "      <td>West Bank</td>\n",
              "      <td>NEAR EAST</td>\n",
              "      <td>2460492</td>\n",
              "      <td>800.0</td>\n",
              "      <td>NaN</td>\n",
              "      <td>3.0</td>\n",
              "      <td>1.968394e+09</td>\n",
              "    </tr>\n",
              "    <tr>\n",
              "      <th>223</th>\n",
              "      <td>Western Sahara</td>\n",
              "      <td>NORTHERN AFRICA</td>\n",
              "      <td>273008</td>\n",
              "      <td>NaN</td>\n",
              "      <td>NaN</td>\n",
              "      <td>1.0</td>\n",
              "      <td>NaN</td>\n",
              "    </tr>\n",
              "    <tr>\n",
              "      <th>224</th>\n",
              "      <td>Yemen</td>\n",
              "      <td>NEAR EAST</td>\n",
              "      <td>21456188</td>\n",
              "      <td>800.0</td>\n",
              "      <td>50.2</td>\n",
              "      <td>1.0</td>\n",
              "      <td>1.716495e+10</td>\n",
              "    </tr>\n",
              "    <tr>\n",
              "      <th>225</th>\n",
              "      <td>Zambia</td>\n",
              "      <td>SUB-SAHARAN AFRICA</td>\n",
              "      <td>11502010</td>\n",
              "      <td>800.0</td>\n",
              "      <td>80.6</td>\n",
              "      <td>2.0</td>\n",
              "      <td>9.201608e+09</td>\n",
              "    </tr>\n",
              "    <tr>\n",
              "      <th>226</th>\n",
              "      <td>Zimbabwe</td>\n",
              "      <td>SUB-SAHARAN AFRICA</td>\n",
              "      <td>12236805</td>\n",
              "      <td>1900.0</td>\n",
              "      <td>90.7</td>\n",
              "      <td>2.0</td>\n",
              "      <td>2.324993e+10</td>\n",
              "    </tr>\n",
              "  </tbody>\n",
              "</table>\n",
              "<p>227 rows × 7 columns</p>\n",
              "</div>\n",
              "    <div class=\"colab-df-buttons\">\n",
              "\n",
              "  <div class=\"colab-df-container\">\n",
              "    <button class=\"colab-df-convert\" onclick=\"convertToInteractive('df-e560f1a6-fb05-4cdc-8c21-c9292f9bee56')\"\n",
              "            title=\"Convert this dataframe to an interactive table.\"\n",
              "            style=\"display:none;\">\n",
              "\n",
              "  <svg xmlns=\"http://www.w3.org/2000/svg\" height=\"24px\" viewBox=\"0 -960 960 960\">\n",
              "    <path d=\"M120-120v-720h720v720H120Zm60-500h600v-160H180v160Zm220 220h160v-160H400v160Zm0 220h160v-160H400v160ZM180-400h160v-160H180v160Zm440 0h160v-160H620v160ZM180-180h160v-160H180v160Zm440 0h160v-160H620v160Z\"/>\n",
              "  </svg>\n",
              "    </button>\n",
              "\n",
              "  <style>\n",
              "    .colab-df-container {\n",
              "      display:flex;\n",
              "      gap: 12px;\n",
              "    }\n",
              "\n",
              "    .colab-df-convert {\n",
              "      background-color: #E8F0FE;\n",
              "      border: none;\n",
              "      border-radius: 50%;\n",
              "      cursor: pointer;\n",
              "      display: none;\n",
              "      fill: #1967D2;\n",
              "      height: 32px;\n",
              "      padding: 0 0 0 0;\n",
              "      width: 32px;\n",
              "    }\n",
              "\n",
              "    .colab-df-convert:hover {\n",
              "      background-color: #E2EBFA;\n",
              "      box-shadow: 0px 1px 2px rgba(60, 64, 67, 0.3), 0px 1px 3px 1px rgba(60, 64, 67, 0.15);\n",
              "      fill: #174EA6;\n",
              "    }\n",
              "\n",
              "    .colab-df-buttons div {\n",
              "      margin-bottom: 4px;\n",
              "    }\n",
              "\n",
              "    [theme=dark] .colab-df-convert {\n",
              "      background-color: #3B4455;\n",
              "      fill: #D2E3FC;\n",
              "    }\n",
              "\n",
              "    [theme=dark] .colab-df-convert:hover {\n",
              "      background-color: #434B5C;\n",
              "      box-shadow: 0px 1px 3px 1px rgba(0, 0, 0, 0.15);\n",
              "      filter: drop-shadow(0px 1px 2px rgba(0, 0, 0, 0.3));\n",
              "      fill: #FFFFFF;\n",
              "    }\n",
              "  </style>\n",
              "\n",
              "    <script>\n",
              "      const buttonEl =\n",
              "        document.querySelector('#df-e560f1a6-fb05-4cdc-8c21-c9292f9bee56 button.colab-df-convert');\n",
              "      buttonEl.style.display =\n",
              "        google.colab.kernel.accessAllowed ? 'block' : 'none';\n",
              "\n",
              "      async function convertToInteractive(key) {\n",
              "        const element = document.querySelector('#df-e560f1a6-fb05-4cdc-8c21-c9292f9bee56');\n",
              "        const dataTable =\n",
              "          await google.colab.kernel.invokeFunction('convertToInteractive',\n",
              "                                                    [key], {});\n",
              "        if (!dataTable) return;\n",
              "\n",
              "        const docLinkHtml = 'Like what you see? Visit the ' +\n",
              "          '<a target=\"_blank\" href=https://colab.research.google.com/notebooks/data_table.ipynb>data table notebook</a>'\n",
              "          + ' to learn more about interactive tables.';\n",
              "        element.innerHTML = '';\n",
              "        dataTable['output_type'] = 'display_data';\n",
              "        await google.colab.output.renderOutput(dataTable, element);\n",
              "        const docLink = document.createElement('div');\n",
              "        docLink.innerHTML = docLinkHtml;\n",
              "        element.appendChild(docLink);\n",
              "      }\n",
              "    </script>\n",
              "  </div>\n",
              "\n",
              "\n",
              "<div id=\"df-0123eaba-dd3a-4d7d-a499-08b03d851da2\">\n",
              "  <button class=\"colab-df-quickchart\" onclick=\"quickchart('df-0123eaba-dd3a-4d7d-a499-08b03d851da2')\"\n",
              "            title=\"Suggest charts\"\n",
              "            style=\"display:none;\">\n",
              "\n",
              "<svg xmlns=\"http://www.w3.org/2000/svg\" height=\"24px\"viewBox=\"0 0 24 24\"\n",
              "     width=\"24px\">\n",
              "    <g>\n",
              "        <path d=\"M19 3H5c-1.1 0-2 .9-2 2v14c0 1.1.9 2 2 2h14c1.1 0 2-.9 2-2V5c0-1.1-.9-2-2-2zM9 17H7v-7h2v7zm4 0h-2V7h2v10zm4 0h-2v-4h2v4z\"/>\n",
              "    </g>\n",
              "</svg>\n",
              "  </button>\n",
              "\n",
              "<style>\n",
              "  .colab-df-quickchart {\n",
              "      --bg-color: #E8F0FE;\n",
              "      --fill-color: #1967D2;\n",
              "      --hover-bg-color: #E2EBFA;\n",
              "      --hover-fill-color: #174EA6;\n",
              "      --disabled-fill-color: #AAA;\n",
              "      --disabled-bg-color: #DDD;\n",
              "  }\n",
              "\n",
              "  [theme=dark] .colab-df-quickchart {\n",
              "      --bg-color: #3B4455;\n",
              "      --fill-color: #D2E3FC;\n",
              "      --hover-bg-color: #434B5C;\n",
              "      --hover-fill-color: #FFFFFF;\n",
              "      --disabled-bg-color: #3B4455;\n",
              "      --disabled-fill-color: #666;\n",
              "  }\n",
              "\n",
              "  .colab-df-quickchart {\n",
              "    background-color: var(--bg-color);\n",
              "    border: none;\n",
              "    border-radius: 50%;\n",
              "    cursor: pointer;\n",
              "    display: none;\n",
              "    fill: var(--fill-color);\n",
              "    height: 32px;\n",
              "    padding: 0;\n",
              "    width: 32px;\n",
              "  }\n",
              "\n",
              "  .colab-df-quickchart:hover {\n",
              "    background-color: var(--hover-bg-color);\n",
              "    box-shadow: 0 1px 2px rgba(60, 64, 67, 0.3), 0 1px 3px 1px rgba(60, 64, 67, 0.15);\n",
              "    fill: var(--button-hover-fill-color);\n",
              "  }\n",
              "\n",
              "  .colab-df-quickchart-complete:disabled,\n",
              "  .colab-df-quickchart-complete:disabled:hover {\n",
              "    background-color: var(--disabled-bg-color);\n",
              "    fill: var(--disabled-fill-color);\n",
              "    box-shadow: none;\n",
              "  }\n",
              "\n",
              "  .colab-df-spinner {\n",
              "    border: 2px solid var(--fill-color);\n",
              "    border-color: transparent;\n",
              "    border-bottom-color: var(--fill-color);\n",
              "    animation:\n",
              "      spin 1s steps(1) infinite;\n",
              "  }\n",
              "\n",
              "  @keyframes spin {\n",
              "    0% {\n",
              "      border-color: transparent;\n",
              "      border-bottom-color: var(--fill-color);\n",
              "      border-left-color: var(--fill-color);\n",
              "    }\n",
              "    20% {\n",
              "      border-color: transparent;\n",
              "      border-left-color: var(--fill-color);\n",
              "      border-top-color: var(--fill-color);\n",
              "    }\n",
              "    30% {\n",
              "      border-color: transparent;\n",
              "      border-left-color: var(--fill-color);\n",
              "      border-top-color: var(--fill-color);\n",
              "      border-right-color: var(--fill-color);\n",
              "    }\n",
              "    40% {\n",
              "      border-color: transparent;\n",
              "      border-right-color: var(--fill-color);\n",
              "      border-top-color: var(--fill-color);\n",
              "    }\n",
              "    60% {\n",
              "      border-color: transparent;\n",
              "      border-right-color: var(--fill-color);\n",
              "    }\n",
              "    80% {\n",
              "      border-color: transparent;\n",
              "      border-right-color: var(--fill-color);\n",
              "      border-bottom-color: var(--fill-color);\n",
              "    }\n",
              "    90% {\n",
              "      border-color: transparent;\n",
              "      border-bottom-color: var(--fill-color);\n",
              "    }\n",
              "  }\n",
              "</style>\n",
              "\n",
              "  <script>\n",
              "    async function quickchart(key) {\n",
              "      const quickchartButtonEl =\n",
              "        document.querySelector('#' + key + ' button');\n",
              "      quickchartButtonEl.disabled = true;  // To prevent multiple clicks.\n",
              "      quickchartButtonEl.classList.add('colab-df-spinner');\n",
              "      try {\n",
              "        const charts = await google.colab.kernel.invokeFunction(\n",
              "            'suggestCharts', [key], {});\n",
              "      } catch (error) {\n",
              "        console.error('Error during call to suggestCharts:', error);\n",
              "      }\n",
              "      quickchartButtonEl.classList.remove('colab-df-spinner');\n",
              "      quickchartButtonEl.classList.add('colab-df-quickchart-complete');\n",
              "    }\n",
              "    (() => {\n",
              "      let quickchartButtonEl =\n",
              "        document.querySelector('#df-0123eaba-dd3a-4d7d-a499-08b03d851da2 button');\n",
              "      quickchartButtonEl.style.display =\n",
              "        google.colab.kernel.accessAllowed ? 'block' : 'none';\n",
              "    })();\n",
              "  </script>\n",
              "</div>\n",
              "\n",
              "  <div id=\"id_868461bb-6ee9-4080-9d57-966c4aa4b15c\">\n",
              "    <style>\n",
              "      .colab-df-generate {\n",
              "        background-color: #E8F0FE;\n",
              "        border: none;\n",
              "        border-radius: 50%;\n",
              "        cursor: pointer;\n",
              "        display: none;\n",
              "        fill: #1967D2;\n",
              "        height: 32px;\n",
              "        padding: 0 0 0 0;\n",
              "        width: 32px;\n",
              "      }\n",
              "\n",
              "      .colab-df-generate:hover {\n",
              "        background-color: #E2EBFA;\n",
              "        box-shadow: 0px 1px 2px rgba(60, 64, 67, 0.3), 0px 1px 3px 1px rgba(60, 64, 67, 0.15);\n",
              "        fill: #174EA6;\n",
              "      }\n",
              "\n",
              "      [theme=dark] .colab-df-generate {\n",
              "        background-color: #3B4455;\n",
              "        fill: #D2E3FC;\n",
              "      }\n",
              "\n",
              "      [theme=dark] .colab-df-generate:hover {\n",
              "        background-color: #434B5C;\n",
              "        box-shadow: 0px 1px 3px 1px rgba(0, 0, 0, 0.15);\n",
              "        filter: drop-shadow(0px 1px 2px rgba(0, 0, 0, 0.3));\n",
              "        fill: #FFFFFF;\n",
              "      }\n",
              "    </style>\n",
              "    <button class=\"colab-df-generate\" onclick=\"generateWithVariable('df')\"\n",
              "            title=\"Generate code using this dataframe.\"\n",
              "            style=\"display:none;\">\n",
              "\n",
              "  <svg xmlns=\"http://www.w3.org/2000/svg\" height=\"24px\"viewBox=\"0 0 24 24\"\n",
              "       width=\"24px\">\n",
              "    <path d=\"M7,19H8.4L18.45,9,17,7.55,7,17.6ZM5,21V16.75L18.45,3.32a2,2,0,0,1,2.83,0l1.4,1.43a1.91,1.91,0,0,1,.58,1.4,1.91,1.91,0,0,1-.58,1.4L9.25,21ZM18.45,9,17,7.55Zm-12,3A5.31,5.31,0,0,0,4.9,8.1,5.31,5.31,0,0,0,1,6.5,5.31,5.31,0,0,0,4.9,4.9,5.31,5.31,0,0,0,6.5,1,5.31,5.31,0,0,0,8.1,4.9,5.31,5.31,0,0,0,12,6.5,5.46,5.46,0,0,0,6.5,12Z\"/>\n",
              "  </svg>\n",
              "    </button>\n",
              "    <script>\n",
              "      (() => {\n",
              "      const buttonEl =\n",
              "        document.querySelector('#id_868461bb-6ee9-4080-9d57-966c4aa4b15c button.colab-df-generate');\n",
              "      buttonEl.style.display =\n",
              "        google.colab.kernel.accessAllowed ? 'block' : 'none';\n",
              "\n",
              "      buttonEl.onclick = () => {\n",
              "        google.colab.notebook.generateWithVariable('df');\n",
              "      }\n",
              "      })();\n",
              "    </script>\n",
              "  </div>\n",
              "\n",
              "    </div>\n",
              "  </div>\n"
            ],
            "application/vnd.google.colaboratory.intrinsic+json": {
              "type": "dataframe",
              "variable_name": "df",
              "summary": "{\n  \"name\": \"df\",\n  \"rows\": 227,\n  \"fields\": [\n    {\n      \"column\": \"Country\",\n      \"properties\": {\n        \"dtype\": \"string\",\n        \"num_unique_values\": 227,\n        \"samples\": [\n          \"Armenia \",\n          \"Namibia \",\n          \"Bahrain \"\n        ],\n        \"semantic_type\": \"\",\n        \"description\": \"\"\n      }\n    },\n    {\n      \"column\": \"Region\",\n      \"properties\": {\n        \"dtype\": \"category\",\n        \"num_unique_values\": 11,\n        \"samples\": [\n          \"SUB-SAHARAN AFRICA                 \",\n          \"ASIA (EX. NEAR EAST)         \",\n          \"NORTHERN AMERICA                   \"\n        ],\n        \"semantic_type\": \"\",\n        \"description\": \"\"\n      }\n    },\n    {\n      \"column\": \"Population\",\n      \"properties\": {\n        \"dtype\": \"number\",\n        \"std\": 117891326,\n        \"min\": 7026,\n        \"max\": 1313973713,\n        \"num_unique_values\": 227,\n        \"samples\": [\n          2976372,\n          2044147,\n          698585\n        ],\n        \"semantic_type\": \"\",\n        \"description\": \"\"\n      }\n    },\n    {\n      \"column\": \"GDP ($ per capita)\",\n      \"properties\": {\n        \"dtype\": \"number\",\n        \"std\": 10049.13851319723,\n        \"min\": 500.0,\n        \"max\": 55100.0,\n        \"num_unique_values\": 130,\n        \"samples\": [\n          5500.0,\n          19200.0,\n          4900.0\n        ],\n        \"semantic_type\": \"\",\n        \"description\": \"\"\n      }\n    },\n    {\n      \"column\": \"Literacy (%)\",\n      \"properties\": {\n        \"dtype\": \"number\",\n        \"std\": 19.722172920626125,\n        \"min\": 17.6,\n        \"max\": 100.0,\n        \"num_unique_values\": 140,\n        \"samples\": [\n          64.6,\n          99.4,\n          47.5\n        ],\n        \"semantic_type\": \"\",\n        \"description\": \"\"\n      }\n    },\n    {\n      \"column\": \"Climate\",\n      \"properties\": {\n        \"dtype\": \"number\",\n        \"std\": 0.6993968160243118,\n        \"min\": 1.0,\n        \"max\": 4.0,\n        \"num_unique_values\": 6,\n        \"samples\": [\n          1.0,\n          3.0,\n          2.5\n        ],\n        \"semantic_type\": \"\",\n        \"description\": \"\"\n      }\n    },\n    {\n      \"column\": \"gdp\",\n      \"properties\": {\n        \"dtype\": \"number\",\n        \"std\": 956593553462.0885,\n        \"min\": 12991000.0,\n        \"max\": 11281191327000.0,\n        \"num_unique_values\": 226,\n        \"samples\": [\n          10417302000.0,\n          106463955000.0,\n          40879328400.0\n        ],\n        \"semantic_type\": \"\",\n        \"description\": \"\"\n      }\n    }\n  ]\n}"
            }
          },
          "metadata": {},
          "execution_count": 23
        }
      ],
      "source": [
        "df['gdp'] = df['Population']*df['GDP ($ per capita)']\n",
        "df"
      ]
    },
    {
      "cell_type": "markdown",
      "metadata": {
        "id": "X-acprTKkuhT"
      },
      "source": [
        "**Q6: Create a data frame that counts the number countries in each region?**\n",
        "\n",
        "*Hint: Use `groupby`, select the `location` column and aggregate using `count`.*"
      ]
    },
    {
      "cell_type": "code",
      "execution_count": null,
      "metadata": {
        "id": "tUY1jEnfkuhU",
        "colab": {
          "base_uri": "https://localhost:8080/"
        },
        "outputId": "7aee13f3-5976-4c59-ae97-53f80e4173c4"
      },
      "outputs": [
        {
          "output_type": "execute_result",
          "data": {
            "text/plain": [
              "Region\n",
              "ASIA (EX. NEAR EAST)                   28\n",
              "BALTICS                                 3\n",
              "C.W. OF IND. STATES                    12\n",
              "EASTERN EUROPE                         12\n",
              "LATIN AMER. & CARIB                    45\n",
              "NEAR EAST                              16\n",
              "NORTHERN AFRICA                         6\n",
              "NORTHERN AMERICA                        5\n",
              "OCEANIA                                21\n",
              "SUB-SAHARAN AFRICA                     51\n",
              "WESTERN EUROPE                         28\n",
              "Name: count, dtype: int64"
            ]
          },
          "metadata": {},
          "execution_count": 24
        }
      ],
      "source": [
        "df['count']=1\n",
        "country_counts_df = df.groupby(['Region']).count()['count']\n",
        "country_counts_df"
      ]
    },
    {
      "cell_type": "markdown",
      "metadata": {
        "id": "I5xnLU7OkuhU"
      },
      "source": [
        "**Q7: Create a data frame showing the total population of each region.**\n",
        "\n",
        "*Hint: Use `groupby`, select the population column and aggregate using `sum`.*"
      ]
    },
    {
      "cell_type": "code",
      "execution_count": null,
      "metadata": {
        "id": "xmPgGJ1skuhU",
        "colab": {
          "base_uri": "https://localhost:8080/"
        },
        "outputId": "f68d3ac7-ce9a-4913-cb1c-f123ddd77488"
      },
      "outputs": [
        {
          "output_type": "execute_result",
          "data": {
            "text/plain": [
              "Region\n",
              "ASIA (EX. NEAR EAST)                   3687982236\n",
              "BALTICS                                   7184974\n",
              "C.W. OF IND. STATES                     280081548\n",
              "EASTERN EUROPE                          119914717\n",
              "LATIN AMER. & CARIB                     561824599\n",
              "NEAR EAST                               195068377\n",
              "NORTHERN AFRICA                         161407133\n",
              "NORTHERN AMERICA                        331672307\n",
              "OCEANIA                                  33131662\n",
              "SUB-SAHARAN AFRICA                      749437000\n",
              "WESTERN EUROPE                          396339998\n",
              "Name: Population, dtype: int64"
            ]
          },
          "metadata": {},
          "execution_count": 25
        }
      ],
      "source": [
        "region_populations_df = df.groupby(['Region'])['Population'].sum()\n",
        "region_populations_df"
      ]
    },
    {
      "cell_type": "markdown",
      "metadata": {
        "id": "n2tlLfQpkuhU"
      },
      "source": [
        "**Q8: Count the number of null values in each column**\n",
        "\n",
        "*Hint: Use `isna`.*"
      ]
    },
    {
      "cell_type": "code",
      "execution_count": null,
      "metadata": {
        "id": "bx32XCmFkuhU",
        "colab": {
          "base_uri": "https://localhost:8080/"
        },
        "outputId": "6fbce0df-069b-43d7-d36b-e4b320a83e90"
      },
      "outputs": [
        {
          "output_type": "execute_result",
          "data": {
            "text/plain": [
              "Country                0\n",
              "Region                 0\n",
              "Population             0\n",
              "GDP ($ per capita)     1\n",
              "Literacy (%)          18\n",
              "Climate               22\n",
              "gdp                    1\n",
              "count                  0\n",
              "dtype: int64"
            ]
          },
          "metadata": {},
          "execution_count": 26
        }
      ],
      "source": [
        "na_values = df.isna().sum()\n",
        "na_values"
      ]
    },
    {
      "cell_type": "markdown",
      "metadata": {
        "id": "aDwQRewykuhV"
      },
      "source": [
        "**Q9: Fill all the null values with the mean of their respective coluumn**\n",
        "\n",
        "*Hint: Use `mean` and `fillna`.*"
      ]
    },
    {
      "cell_type": "code",
      "execution_count": null,
      "metadata": {
        "id": "ucumufYFkuhV"
      },
      "outputs": [],
      "source": [
        "# <START>\n",
        "mean=df[['GDP ($ per capita)','Literacy (%)','Climate','gdp']].mean()\n",
        "df.fillna(mean,inplace=True)\n",
        "# <END>"
      ]
    },
    {
      "cell_type": "markdown",
      "metadata": {
        "id": "0yjHgeEXkuhV"
      },
      "source": [
        "**Q10: Create a dataframe containing 10 countries with the lowest GDP per capita, among the counties with population greater than 100 million.**"
      ]
    },
    {
      "cell_type": "code",
      "execution_count": null,
      "metadata": {
        "id": "_O5-X6UCkuhV",
        "colab": {
          "base_uri": "https://localhost:8080/",
          "height": 363
        },
        "outputId": "b28e310e-ff8a-44e9-908e-017b4fba3978"
      },
      "outputs": [
        {
          "output_type": "execute_result",
          "data": {
            "text/plain": [
              "                   Country                               Region  Population  \\\n",
              "58             East Timor         ASIA (EX. NEAR EAST)              1062777   \n",
              "188               Somalia   SUB-SAHARAN AFRICA                      8863338   \n",
              "183          Sierra Leone   SUB-SAHARAN AFRICA                      6005250   \n",
              "200              Tanzania   SUB-SAHARAN AFRICA                     37445392   \n",
              "74             Gaza Strip   NEAR EAST                               1428757   \n",
              "33                Burundi   SUB-SAHARAN AFRICA                      8090068   \n",
              "125                Malawi   SUB-SAHARAN AFRICA                     13013926   \n",
              "0             Afghanistan         ASIA (EX. NEAR EAST)             31056997   \n",
              "46   Congo, Repub. of the   SUB-SAHARAN AFRICA                      3702314   \n",
              "45       Congo, Dem. Rep.   SUB-SAHARAN AFRICA                     62660551   \n",
              "\n",
              "     GDP ($ per capita)  Literacy (%)   Climate           gdp  count  \n",
              "58                500.0     58.600000  2.000000  5.313885e+08      1  \n",
              "188               500.0     37.800000  1.000000  4.431669e+09      1  \n",
              "183               500.0     31.400000  2.000000  3.002625e+09      1  \n",
              "200               600.0     78.200000  2.139024  2.246724e+10      1  \n",
              "74                600.0     82.838278  3.000000  8.572542e+08      1  \n",
              "33                600.0     51.600000  2.000000  4.854041e+09      1  \n",
              "125               600.0     62.700000  2.000000  7.808356e+09      1  \n",
              "0                 700.0     36.000000  1.000000  2.173990e+10      1  \n",
              "46                700.0     83.800000  2.000000  2.591620e+09      1  \n",
              "45                700.0     65.500000  2.000000  4.386239e+10      1  "
            ],
            "text/html": [
              "\n",
              "  <div id=\"df-0903f59a-c72f-4533-9c03-d20b8d1d3791\" class=\"colab-df-container\">\n",
              "    <div>\n",
              "<style scoped>\n",
              "    .dataframe tbody tr th:only-of-type {\n",
              "        vertical-align: middle;\n",
              "    }\n",
              "\n",
              "    .dataframe tbody tr th {\n",
              "        vertical-align: top;\n",
              "    }\n",
              "\n",
              "    .dataframe thead th {\n",
              "        text-align: right;\n",
              "    }\n",
              "</style>\n",
              "<table border=\"1\" class=\"dataframe\">\n",
              "  <thead>\n",
              "    <tr style=\"text-align: right;\">\n",
              "      <th></th>\n",
              "      <th>Country</th>\n",
              "      <th>Region</th>\n",
              "      <th>Population</th>\n",
              "      <th>GDP ($ per capita)</th>\n",
              "      <th>Literacy (%)</th>\n",
              "      <th>Climate</th>\n",
              "      <th>gdp</th>\n",
              "      <th>count</th>\n",
              "    </tr>\n",
              "  </thead>\n",
              "  <tbody>\n",
              "    <tr>\n",
              "      <th>58</th>\n",
              "      <td>East Timor</td>\n",
              "      <td>ASIA (EX. NEAR EAST)</td>\n",
              "      <td>1062777</td>\n",
              "      <td>500.0</td>\n",
              "      <td>58.600000</td>\n",
              "      <td>2.000000</td>\n",
              "      <td>5.313885e+08</td>\n",
              "      <td>1</td>\n",
              "    </tr>\n",
              "    <tr>\n",
              "      <th>188</th>\n",
              "      <td>Somalia</td>\n",
              "      <td>SUB-SAHARAN AFRICA</td>\n",
              "      <td>8863338</td>\n",
              "      <td>500.0</td>\n",
              "      <td>37.800000</td>\n",
              "      <td>1.000000</td>\n",
              "      <td>4.431669e+09</td>\n",
              "      <td>1</td>\n",
              "    </tr>\n",
              "    <tr>\n",
              "      <th>183</th>\n",
              "      <td>Sierra Leone</td>\n",
              "      <td>SUB-SAHARAN AFRICA</td>\n",
              "      <td>6005250</td>\n",
              "      <td>500.0</td>\n",
              "      <td>31.400000</td>\n",
              "      <td>2.000000</td>\n",
              "      <td>3.002625e+09</td>\n",
              "      <td>1</td>\n",
              "    </tr>\n",
              "    <tr>\n",
              "      <th>200</th>\n",
              "      <td>Tanzania</td>\n",
              "      <td>SUB-SAHARAN AFRICA</td>\n",
              "      <td>37445392</td>\n",
              "      <td>600.0</td>\n",
              "      <td>78.200000</td>\n",
              "      <td>2.139024</td>\n",
              "      <td>2.246724e+10</td>\n",
              "      <td>1</td>\n",
              "    </tr>\n",
              "    <tr>\n",
              "      <th>74</th>\n",
              "      <td>Gaza Strip</td>\n",
              "      <td>NEAR EAST</td>\n",
              "      <td>1428757</td>\n",
              "      <td>600.0</td>\n",
              "      <td>82.838278</td>\n",
              "      <td>3.000000</td>\n",
              "      <td>8.572542e+08</td>\n",
              "      <td>1</td>\n",
              "    </tr>\n",
              "    <tr>\n",
              "      <th>33</th>\n",
              "      <td>Burundi</td>\n",
              "      <td>SUB-SAHARAN AFRICA</td>\n",
              "      <td>8090068</td>\n",
              "      <td>600.0</td>\n",
              "      <td>51.600000</td>\n",
              "      <td>2.000000</td>\n",
              "      <td>4.854041e+09</td>\n",
              "      <td>1</td>\n",
              "    </tr>\n",
              "    <tr>\n",
              "      <th>125</th>\n",
              "      <td>Malawi</td>\n",
              "      <td>SUB-SAHARAN AFRICA</td>\n",
              "      <td>13013926</td>\n",
              "      <td>600.0</td>\n",
              "      <td>62.700000</td>\n",
              "      <td>2.000000</td>\n",
              "      <td>7.808356e+09</td>\n",
              "      <td>1</td>\n",
              "    </tr>\n",
              "    <tr>\n",
              "      <th>0</th>\n",
              "      <td>Afghanistan</td>\n",
              "      <td>ASIA (EX. NEAR EAST)</td>\n",
              "      <td>31056997</td>\n",
              "      <td>700.0</td>\n",
              "      <td>36.000000</td>\n",
              "      <td>1.000000</td>\n",
              "      <td>2.173990e+10</td>\n",
              "      <td>1</td>\n",
              "    </tr>\n",
              "    <tr>\n",
              "      <th>46</th>\n",
              "      <td>Congo, Repub. of the</td>\n",
              "      <td>SUB-SAHARAN AFRICA</td>\n",
              "      <td>3702314</td>\n",
              "      <td>700.0</td>\n",
              "      <td>83.800000</td>\n",
              "      <td>2.000000</td>\n",
              "      <td>2.591620e+09</td>\n",
              "      <td>1</td>\n",
              "    </tr>\n",
              "    <tr>\n",
              "      <th>45</th>\n",
              "      <td>Congo, Dem. Rep.</td>\n",
              "      <td>SUB-SAHARAN AFRICA</td>\n",
              "      <td>62660551</td>\n",
              "      <td>700.0</td>\n",
              "      <td>65.500000</td>\n",
              "      <td>2.000000</td>\n",
              "      <td>4.386239e+10</td>\n",
              "      <td>1</td>\n",
              "    </tr>\n",
              "  </tbody>\n",
              "</table>\n",
              "</div>\n",
              "    <div class=\"colab-df-buttons\">\n",
              "\n",
              "  <div class=\"colab-df-container\">\n",
              "    <button class=\"colab-df-convert\" onclick=\"convertToInteractive('df-0903f59a-c72f-4533-9c03-d20b8d1d3791')\"\n",
              "            title=\"Convert this dataframe to an interactive table.\"\n",
              "            style=\"display:none;\">\n",
              "\n",
              "  <svg xmlns=\"http://www.w3.org/2000/svg\" height=\"24px\" viewBox=\"0 -960 960 960\">\n",
              "    <path d=\"M120-120v-720h720v720H120Zm60-500h600v-160H180v160Zm220 220h160v-160H400v160Zm0 220h160v-160H400v160ZM180-400h160v-160H180v160Zm440 0h160v-160H620v160ZM180-180h160v-160H180v160Zm440 0h160v-160H620v160Z\"/>\n",
              "  </svg>\n",
              "    </button>\n",
              "\n",
              "  <style>\n",
              "    .colab-df-container {\n",
              "      display:flex;\n",
              "      gap: 12px;\n",
              "    }\n",
              "\n",
              "    .colab-df-convert {\n",
              "      background-color: #E8F0FE;\n",
              "      border: none;\n",
              "      border-radius: 50%;\n",
              "      cursor: pointer;\n",
              "      display: none;\n",
              "      fill: #1967D2;\n",
              "      height: 32px;\n",
              "      padding: 0 0 0 0;\n",
              "      width: 32px;\n",
              "    }\n",
              "\n",
              "    .colab-df-convert:hover {\n",
              "      background-color: #E2EBFA;\n",
              "      box-shadow: 0px 1px 2px rgba(60, 64, 67, 0.3), 0px 1px 3px 1px rgba(60, 64, 67, 0.15);\n",
              "      fill: #174EA6;\n",
              "    }\n",
              "\n",
              "    .colab-df-buttons div {\n",
              "      margin-bottom: 4px;\n",
              "    }\n",
              "\n",
              "    [theme=dark] .colab-df-convert {\n",
              "      background-color: #3B4455;\n",
              "      fill: #D2E3FC;\n",
              "    }\n",
              "\n",
              "    [theme=dark] .colab-df-convert:hover {\n",
              "      background-color: #434B5C;\n",
              "      box-shadow: 0px 1px 3px 1px rgba(0, 0, 0, 0.15);\n",
              "      filter: drop-shadow(0px 1px 2px rgba(0, 0, 0, 0.3));\n",
              "      fill: #FFFFFF;\n",
              "    }\n",
              "  </style>\n",
              "\n",
              "    <script>\n",
              "      const buttonEl =\n",
              "        document.querySelector('#df-0903f59a-c72f-4533-9c03-d20b8d1d3791 button.colab-df-convert');\n",
              "      buttonEl.style.display =\n",
              "        google.colab.kernel.accessAllowed ? 'block' : 'none';\n",
              "\n",
              "      async function convertToInteractive(key) {\n",
              "        const element = document.querySelector('#df-0903f59a-c72f-4533-9c03-d20b8d1d3791');\n",
              "        const dataTable =\n",
              "          await google.colab.kernel.invokeFunction('convertToInteractive',\n",
              "                                                    [key], {});\n",
              "        if (!dataTable) return;\n",
              "\n",
              "        const docLinkHtml = 'Like what you see? Visit the ' +\n",
              "          '<a target=\"_blank\" href=https://colab.research.google.com/notebooks/data_table.ipynb>data table notebook</a>'\n",
              "          + ' to learn more about interactive tables.';\n",
              "        element.innerHTML = '';\n",
              "        dataTable['output_type'] = 'display_data';\n",
              "        await google.colab.output.renderOutput(dataTable, element);\n",
              "        const docLink = document.createElement('div');\n",
              "        docLink.innerHTML = docLinkHtml;\n",
              "        element.appendChild(docLink);\n",
              "      }\n",
              "    </script>\n",
              "  </div>\n",
              "\n",
              "\n",
              "<div id=\"df-2bc3761f-b398-4e3e-8ec9-a0ff9d78214a\">\n",
              "  <button class=\"colab-df-quickchart\" onclick=\"quickchart('df-2bc3761f-b398-4e3e-8ec9-a0ff9d78214a')\"\n",
              "            title=\"Suggest charts\"\n",
              "            style=\"display:none;\">\n",
              "\n",
              "<svg xmlns=\"http://www.w3.org/2000/svg\" height=\"24px\"viewBox=\"0 0 24 24\"\n",
              "     width=\"24px\">\n",
              "    <g>\n",
              "        <path d=\"M19 3H5c-1.1 0-2 .9-2 2v14c0 1.1.9 2 2 2h14c1.1 0 2-.9 2-2V5c0-1.1-.9-2-2-2zM9 17H7v-7h2v7zm4 0h-2V7h2v10zm4 0h-2v-4h2v4z\"/>\n",
              "    </g>\n",
              "</svg>\n",
              "  </button>\n",
              "\n",
              "<style>\n",
              "  .colab-df-quickchart {\n",
              "      --bg-color: #E8F0FE;\n",
              "      --fill-color: #1967D2;\n",
              "      --hover-bg-color: #E2EBFA;\n",
              "      --hover-fill-color: #174EA6;\n",
              "      --disabled-fill-color: #AAA;\n",
              "      --disabled-bg-color: #DDD;\n",
              "  }\n",
              "\n",
              "  [theme=dark] .colab-df-quickchart {\n",
              "      --bg-color: #3B4455;\n",
              "      --fill-color: #D2E3FC;\n",
              "      --hover-bg-color: #434B5C;\n",
              "      --hover-fill-color: #FFFFFF;\n",
              "      --disabled-bg-color: #3B4455;\n",
              "      --disabled-fill-color: #666;\n",
              "  }\n",
              "\n",
              "  .colab-df-quickchart {\n",
              "    background-color: var(--bg-color);\n",
              "    border: none;\n",
              "    border-radius: 50%;\n",
              "    cursor: pointer;\n",
              "    display: none;\n",
              "    fill: var(--fill-color);\n",
              "    height: 32px;\n",
              "    padding: 0;\n",
              "    width: 32px;\n",
              "  }\n",
              "\n",
              "  .colab-df-quickchart:hover {\n",
              "    background-color: var(--hover-bg-color);\n",
              "    box-shadow: 0 1px 2px rgba(60, 64, 67, 0.3), 0 1px 3px 1px rgba(60, 64, 67, 0.15);\n",
              "    fill: var(--button-hover-fill-color);\n",
              "  }\n",
              "\n",
              "  .colab-df-quickchart-complete:disabled,\n",
              "  .colab-df-quickchart-complete:disabled:hover {\n",
              "    background-color: var(--disabled-bg-color);\n",
              "    fill: var(--disabled-fill-color);\n",
              "    box-shadow: none;\n",
              "  }\n",
              "\n",
              "  .colab-df-spinner {\n",
              "    border: 2px solid var(--fill-color);\n",
              "    border-color: transparent;\n",
              "    border-bottom-color: var(--fill-color);\n",
              "    animation:\n",
              "      spin 1s steps(1) infinite;\n",
              "  }\n",
              "\n",
              "  @keyframes spin {\n",
              "    0% {\n",
              "      border-color: transparent;\n",
              "      border-bottom-color: var(--fill-color);\n",
              "      border-left-color: var(--fill-color);\n",
              "    }\n",
              "    20% {\n",
              "      border-color: transparent;\n",
              "      border-left-color: var(--fill-color);\n",
              "      border-top-color: var(--fill-color);\n",
              "    }\n",
              "    30% {\n",
              "      border-color: transparent;\n",
              "      border-left-color: var(--fill-color);\n",
              "      border-top-color: var(--fill-color);\n",
              "      border-right-color: var(--fill-color);\n",
              "    }\n",
              "    40% {\n",
              "      border-color: transparent;\n",
              "      border-right-color: var(--fill-color);\n",
              "      border-top-color: var(--fill-color);\n",
              "    }\n",
              "    60% {\n",
              "      border-color: transparent;\n",
              "      border-right-color: var(--fill-color);\n",
              "    }\n",
              "    80% {\n",
              "      border-color: transparent;\n",
              "      border-right-color: var(--fill-color);\n",
              "      border-bottom-color: var(--fill-color);\n",
              "    }\n",
              "    90% {\n",
              "      border-color: transparent;\n",
              "      border-bottom-color: var(--fill-color);\n",
              "    }\n",
              "  }\n",
              "</style>\n",
              "\n",
              "  <script>\n",
              "    async function quickchart(key) {\n",
              "      const quickchartButtonEl =\n",
              "        document.querySelector('#' + key + ' button');\n",
              "      quickchartButtonEl.disabled = true;  // To prevent multiple clicks.\n",
              "      quickchartButtonEl.classList.add('colab-df-spinner');\n",
              "      try {\n",
              "        const charts = await google.colab.kernel.invokeFunction(\n",
              "            'suggestCharts', [key], {});\n",
              "      } catch (error) {\n",
              "        console.error('Error during call to suggestCharts:', error);\n",
              "      }\n",
              "      quickchartButtonEl.classList.remove('colab-df-spinner');\n",
              "      quickchartButtonEl.classList.add('colab-df-quickchart-complete');\n",
              "    }\n",
              "    (() => {\n",
              "      let quickchartButtonEl =\n",
              "        document.querySelector('#df-2bc3761f-b398-4e3e-8ec9-a0ff9d78214a button');\n",
              "      quickchartButtonEl.style.display =\n",
              "        google.colab.kernel.accessAllowed ? 'block' : 'none';\n",
              "    })();\n",
              "  </script>\n",
              "</div>\n",
              "\n",
              "    </div>\n",
              "  </div>\n"
            ],
            "application/vnd.google.colaboratory.intrinsic+json": {
              "type": "dataframe",
              "summary": "{\n  \"name\": \"# <END>\",\n  \"rows\": 10,\n  \"fields\": [\n    {\n      \"column\": \"Country\",\n      \"properties\": {\n        \"dtype\": \"string\",\n        \"num_unique_values\": 10,\n        \"samples\": [\n          \"Congo, Repub. of the \",\n          \"Somalia \",\n          \"Burundi \"\n        ],\n        \"semantic_type\": \"\",\n        \"description\": \"\"\n      }\n    },\n    {\n      \"column\": \"Region\",\n      \"properties\": {\n        \"dtype\": \"category\",\n        \"num_unique_values\": 3,\n        \"samples\": [\n          \"ASIA (EX. NEAR EAST)         \",\n          \"SUB-SAHARAN AFRICA                 \",\n          \"NEAR EAST                          \"\n        ],\n        \"semantic_type\": \"\",\n        \"description\": \"\"\n      }\n    },\n    {\n      \"column\": \"Population\",\n      \"properties\": {\n        \"dtype\": \"number\",\n        \"std\": 20152317,\n        \"min\": 1062777,\n        \"max\": 62660551,\n        \"num_unique_values\": 10,\n        \"samples\": [\n          3702314,\n          8863338,\n          8090068\n        ],\n        \"semantic_type\": \"\",\n        \"description\": \"\"\n      }\n    },\n    {\n      \"column\": \"GDP ($ per capita)\",\n      \"properties\": {\n        \"dtype\": \"number\",\n        \"std\": 81.64965809277261,\n        \"min\": 500.0,\n        \"max\": 700.0,\n        \"num_unique_values\": 3,\n        \"samples\": [\n          500.0,\n          600.0,\n          700.0\n        ],\n        \"semantic_type\": \"\",\n        \"description\": \"\"\n      }\n    },\n    {\n      \"column\": \"Literacy (%)\",\n      \"properties\": {\n        \"dtype\": \"number\",\n        \"std\": 19.44439244222222,\n        \"min\": 31.4,\n        \"max\": 83.8,\n        \"num_unique_values\": 10,\n        \"samples\": [\n          83.8,\n          37.8,\n          51.6\n        ],\n        \"semantic_type\": \"\",\n        \"description\": \"\"\n      }\n    },\n    {\n      \"column\": \"Climate\",\n      \"properties\": {\n        \"dtype\": \"number\",\n        \"std\": 0.5720528220582431,\n        \"min\": 1.0,\n        \"max\": 3.0,\n        \"num_unique_values\": 4,\n        \"samples\": [\n          1.0,\n          3.0,\n          2.0\n        ],\n        \"semantic_type\": \"\",\n        \"description\": \"\"\n      }\n    },\n    {\n      \"column\": \"gdp\",\n      \"properties\": {\n        \"dtype\": \"number\",\n        \"std\": 14002170125.55007,\n        \"min\": 531388500.0,\n        \"max\": 43862385700.0,\n        \"num_unique_values\": 10,\n        \"samples\": [\n          2591619800.0,\n          4431669000.0,\n          4854040800.0\n        ],\n        \"semantic_type\": \"\",\n        \"description\": \"\"\n      }\n    },\n    {\n      \"column\": \"count\",\n      \"properties\": {\n        \"dtype\": \"number\",\n        \"std\": 0,\n        \"min\": 1,\n        \"max\": 1,\n        \"num_unique_values\": 1,\n        \"samples\": [\n          1\n        ],\n        \"semantic_type\": \"\",\n        \"description\": \"\"\n      }\n    }\n  ]\n}"
            }
          },
          "metadata": {},
          "execution_count": 28
        }
      ],
      "source": [
        "# <START>\n",
        "df_modified=df.loc[df['Population']>100000000]\n",
        "df_modified=df.sort_values(['GDP ($ per capita)'],ascending=True)\n",
        "\n",
        "df_modified.head(10)\n",
        "# <END>"
      ]
    },
    {
      "cell_type": "markdown",
      "metadata": {
        "id": "Ni66jSVfkuhW"
      },
      "source": [
        "# **Matplotlib**\n"
      ]
    },
    {
      "cell_type": "markdown",
      "metadata": {
        "id": "JFt34EhekuhW"
      },
      "source": [
        "Data visualisation is a very important part of data science. It helps us understand the data better and draw conclusions from it and Matplotlib is the most popular library in python for this step.\n",
        "\n",
        "In this section, you'll navigate through a series of challenges that not only familiarize you with Matplotlib but also showcase the diverse array of plots and their practical applications. This will not only enhance your Matplotlib skills but also sharpen your ability to choose the right plot for the right scenario.\n",
        "\n",
        "So let's delve in and master the craft of transforming data into compelling visual insights. We will have start with importing the matplotlib library"
      ]
    },
    {
      "cell_type": "code",
      "execution_count": null,
      "metadata": {
        "id": "5BYjZI50kuhW"
      },
      "outputs": [],
      "source": [
        "import matplotlib.pyplot as plt"
      ]
    },
    {
      "cell_type": "markdown",
      "metadata": {
        "id": "b-icyChckuhW"
      },
      "source": [
        "Now, let's start with a simple x vs y plot.\n",
        "1. Create 2 numpy arrays `x` and `y` of random integers, of size (5,1)\n",
        "2. Create a plot of `x` vs `y` using the `plot()` function\n",
        "3. Add labels to the X and Y axes\n",
        "4. Add a title to the plot"
      ]
    },
    {
      "cell_type": "code",
      "execution_count": null,
      "metadata": {
        "id": "UaLaWY39kuhW",
        "colab": {
          "base_uri": "https://localhost:8080/",
          "height": 472
        },
        "outputId": "0ffd16a2-5eb7-4aba-fd04-c6f23918aa80"
      },
      "outputs": [
        {
          "output_type": "display_data",
          "data": {
            "text/plain": [
              "<Figure size 640x480 with 1 Axes>"
            ],
            "image/png": "[encoded data removed]"
          },
          "metadata": {}
        }
      ],
      "source": [
        "# <START>\n",
        "x=np.random.rand(5,1)\n",
        "y=np.random.rand(5,1)\n",
        "plt.plot(x,y)\n",
        "plt.xlabel('X')\n",
        "plt.ylabel('Y')\n",
        "plt.title('Random Plot')\n",
        "# <END>\n",
        "plt.show()"
      ]
    },
    {
      "cell_type": "markdown",
      "metadata": {
        "id": "0JtysfjYkuhX"
      },
      "source": [
        "### **Bar Graphs**\n",
        "\n",
        "Bar graph uses bars to compare data among different categories. It is well suited when you want to measure the changes over a period of time. It can be represented horizontally or vertically. Also, the important thing to keep in mind is that longer the bar, greater is the value.\n",
        "\n",
        "We will be plotting a grouped bar chart in this task. More often than not, it’s more interesting to compare values across two dimensions and for that, a grouped bar chart is needed. (Although no need to worry, making a grouped chart is just calling the `.bar()` command twice :)"
      ]
    },
    {
      "cell_type": "code",
      "execution_count": null,
      "metadata": {
        "id": "ojCW7pFLkuhY"
      },
      "outputs": [],
      "source": [
        "# Create the data to be plotted\n",
        "x1 = np.array([0.25,1.25,2.25,3.25,4.25]) #this will decide the x-coordinate of the centre of the bars\n",
        "y1 = np.array([10,55,80,22,40])\n",
        "width = 0.5 # width of the bars\n",
        "x2 = x1 + width # this will shift the x-coordinate of the centre of the bars by width\n",
        "y2 = np.array([42,26,10,29,66])"
      ]
    },
    {
      "cell_type": "markdown",
      "metadata": {
        "id": "2hdTZet-kuhY"
      },
      "source": [
        "Now,\n",
        "1. Create the bar graphs. Assign different label and color to both the plots.\n",
        "2. Create legend, title and axes labels\n",
        "3. Play around with the values to get a sense of how everything is working"
      ]
    },
    {
      "cell_type": "code",
      "execution_count": null,
      "metadata": {
        "id": "lMh91WorkuhY",
        "colab": {
          "base_uri": "https://localhost:8080/",
          "height": 939
        },
        "outputId": "e2f1749b-3558-479a-e24b-941ab8e88008"
      },
      "outputs": [
        {
          "output_type": "display_data",
          "data": {
            "text/plain": [
              "<Figure size 640x480 with 1 Axes>"
            ],
            "image/png": "[encoded data removed]"
          },
          "metadata": {}
        },
        {
          "output_type": "display_data",
          "data": {
            "text/plain": [
              "<Figure size 640x480 with 1 Axes>"
            ],
            "image/png": "[encoded data removed]"
          },
          "metadata": {}
        }
      ],
      "source": [
        "\n",
        "\n",
        "\n",
        "\n",
        "plt.bar(x1, y1, color ='r', width = width,\n",
        "\t\tedgecolor ='grey', label ='I')\n",
        "\n",
        "\n",
        "\n",
        "\n",
        "plt.xlabel('X Values', fontweight ='bold', fontsize = 15)\n",
        "plt.ylabel('Y Values', fontweight ='bold', fontsize = 15)\n",
        "plt.title('Bar Graphs')\n",
        "plt.legend()\n",
        "plt.show()\n",
        "\n",
        "plt.bar(x2, y2, color ='g', width = width,\n",
        "\t\tedgecolor ='grey', label ='II')\n",
        "plt.xlabel('X Values', fontweight ='bold', fontsize = 15)\n",
        "plt.ylabel('Y Values', fontweight ='bold', fontsize = 15)\n",
        "plt.title('Bar Graphs')\n",
        "\n",
        "plt.legend()\n",
        "plt.show()\n"
      ]
    },
    {
      "cell_type": "markdown",
      "metadata": {
        "id": "AZmnrZ_ikuhZ"
      },
      "source": [
        "### **Histograms**\n",
        "\n",
        "Histograms are used to show a distribution whereas a bar chart is used to compare different entities. Histograms are useful when you have arrays or a very long list. I have to plot the age of population with respect to bin. Now, bin refers to the range of values that are divided into series of intervals. Bins are usually created of the same size.\n",
        "\n",
        "For this task, you should:\n",
        "1. Create bins of interval 10 from 0 to 100. Use `np.arange`\n",
        "2. Generate data to be plotted. You can use numpy for this or write the data yourself. Pick atleast 30 valus.\n",
        "3. Plot the histogram, label the axes and title the plot\n",
        "4. Customise the color and width of the plot as per your choice"
      ]
    },
    {
      "cell_type": "code",
      "execution_count": null,
      "metadata": {
        "id": "MTwBQQGVkuhZ",
        "colab": {
          "base_uri": "https://localhost:8080/",
          "height": 489
        },
        "outputId": "2d58b80f-11d5-4cc1-ce6c-c25548f0f5f8"
      },
      "outputs": [
        {
          "output_type": "execute_result",
          "data": {
            "text/plain": [
              "Text(0.5, 1.0, 'Basic Histogram')"
            ]
          },
          "metadata": {},
          "execution_count": 33
        },
        {
          "output_type": "display_data",
          "data": {
            "text/plain": [
              "<Figure size 640x480 with 1 Axes>"
            ],
            "image/png": "[encoded data removed]"
          },
          "metadata": {}
        }
      ],
      "source": [
        "x = np.random.normal(50, 20, 500)\n",
        "\n",
        "plt.hist(x, bins=10, range=(0, 100), color='skyblue', edgecolor='black')\n",
        "\n",
        "\n",
        "plt.xlabel('Values')\n",
        "plt.ylabel('Frequency')\n",
        "plt.title('Basic Histogram')\n"
      ]
    },
    {
      "cell_type": "markdown",
      "metadata": {
        "id": "YmBL9XNfkuhZ"
      },
      "source": [
        "### **Scatter plot**\n",
        "\n",
        "Usually we need scatter plots in order to compare variables, for example, how much one variable is affected by another variable to build a relation out of it. The data is displayed as a collection of points, each having the value of one variable which determines the position on the horizontal axis and the value of other variable determines the position on the vertical axis\n",
        "\n",
        "1. Create 2 sets of data, `(x1,y1)` and `(x2,y2)` with 8 values each\n",
        "2. Create the scatter plots for both of them and give different labels to each\n",
        "3. Stylise each plot, by giving different colors and marker style. *(Use `marker` argument)*\n",
        "4. Provide legend"
      ]
    },
    {
      "cell_type": "code",
      "execution_count": null,
      "metadata": {
        "id": "ygHKmJJakuha",
        "colab": {
          "base_uri": "https://localhost:8080/",
          "height": 881
        },
        "outputId": "7c82330c-89c4-4567-93f2-ca7010e136eb"
      },
      "outputs": [
        {
          "output_type": "display_data",
          "data": {
            "text/plain": [
              "<Figure size 640x480 with 1 Axes>"
            ],
            "image/png": "[encoded data removed]"
          },
          "metadata": {}
        },
        {
          "output_type": "display_data",
          "data": {
            "text/plain": [
              "<Figure size 640x480 with 1 Axes>"
            ],
            "image/png": "[encoded data removed]"
          },
          "metadata": {}
        }
      ],
      "source": [
        "x1=np.random.rand(8)\n",
        "y1=np.random.rand(8)\n",
        "x2=np.random.rand(8)\n",
        "y2=np.random.rand(8)\n",
        "plt.scatter(x1, y1, c =\"yellow\",\n",
        "            linewidths = 2,\n",
        "            marker =\"o\",\n",
        "            edgecolor =\"red\",\n",
        "            s = 200,label=\"x1 vs y1\")\n",
        "plt.xlabel(\"Smaple X 1\")\n",
        "plt.ylabel(\"Smaple Y 1\")\n",
        "plt.legend(loc=1)\n",
        "plt.show()\n",
        "plt.scatter(x2, y2, c =\"blue\",\n",
        "            linewidths = 2,\n",
        "            marker =\"^\",\n",
        "            edgecolor =\"red\",\n",
        "            s = 200,label=\"x2 vs y2\")\n",
        "plt.xlabel(\"Smaple X 2\")\n",
        "plt.ylabel(\"Smaple Y 2\")\n",
        "plt.legend(loc=1)\n",
        "plt.show()"
      ]
    },
    {
      "cell_type": "markdown",
      "metadata": {
        "id": "h1rYhSoMkuha"
      },
      "source": [
        "### **Subplots**\n",
        "\n",
        "*Look up the `subplot()` command and it's use*\n",
        "\n",
        "1. Generate multiple datasets for different plots.\n",
        "2. Create a figure with multiple subplots (e.g., a 2x2 grid).\n",
        "3. Plot different types of charts (line, scatter, bar) in each subplot. You are free to choose any kind of data and plot."
      ]
    },
    {
      "cell_type": "code",
      "execution_count": null,
      "metadata": {
        "id": "L-IUOYBZkuha",
        "colab": {
          "base_uri": "https://localhost:8080/",
          "height": 478
        },
        "outputId": "4af4aeb1-63d4-431b-e664-e30c9f0fd0a0"
      },
      "outputs": [
        {
          "output_type": "display_data",
          "data": {
            "text/plain": [
              "<Figure size 640x480 with 4 Axes>"
            ],
            "image/png": "[encoded data removed]"
          },
          "metadata": {}
        }
      ],
      "source": [
        "\n",
        "\n",
        "\n",
        "x = np.linspace(0, 2 * np.pi, 400)\n",
        "y1=np.cos(x)\n",
        "y2=np.sin(x)\n",
        "y3=np.tan(x)\n",
        "y4=x**2\n",
        "\n",
        "\n",
        "# create 2 subplots\n",
        "fig, ax = plt.subplots(nrows=2, ncols=2)\n",
        "ax[0,0].plot(x, y1)\n",
        "ax[0,1].plot(x, y2)\n",
        "ax[1,0].plot(x, y3)\n",
        "ax[1,1].plot(x, y4)\n",
        "# plot 2 subplots\n",
        "ax[0,0].set_title('Simple plot with cos(x)')\n",
        "ax[0,1].set_title('Simple plot with sin(x)')\n",
        "ax[1,0].set_title('Simple plot with tan(x)')\n",
        "ax[1,1].set_title('Simple plot with x**2')\n",
        "\n",
        "fig.suptitle('Stacked subplots ')\n",
        "plt.show()"
      ]
    },
    {
      "cell_type": "code",
      "source": [],
      "metadata": {
        "id": "Z-6aFYetj7rc"
      },
      "execution_count": null,
      "outputs": []
    }
  ],
  "metadata": {
    "colab": {
      "provenance": [],
      "include_colab_link": true
    },
    "kernelspec": {
      "display_name": "Python 3",
      "name": "python3"
    },
    "language_info": {
      "codemirror_mode": {
        "name": "ipython",
        "version": 3
      },
      "file_extension": ".py",
      "mimetype": "text/x-python",
      "name": "python",
      "nbconvert_exporter": "python",
      "pygments_lexer": "ipython3",
      "version": "3.10.1"
    }
  },
  "nbformat": 4,
  "nbformat_minor": 0
}